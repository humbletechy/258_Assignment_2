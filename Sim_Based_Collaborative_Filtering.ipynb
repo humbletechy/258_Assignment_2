{
  "nbformat": 4,
  "nbformat_minor": 0,
  "metadata": {
    "colab": {
      "provenance": [],
      "authorship_tag": "ABX9TyPusF/I37xQyJCdYBktU5PG",
      "include_colab_link": true
    },
    "kernelspec": {
      "name": "python3",
      "display_name": "Python 3"
    },
    "language_info": {
      "name": "python"
    }
  },
  "cells": [
    {
      "cell_type": "markdown",
      "metadata": {
        "id": "view-in-github",
        "colab_type": "text"
      },
      "source": [
        "<a href=\"https://colab.research.google.com/github/humbletechy/258_Assignment_2/blob/main/Sim_Based_Collaborative_Filtering.ipynb\" target=\"_parent\"><img src=\"https://colab.research.google.com/assets/colab-badge.svg\" alt=\"Open In Colab\"/></a>"
      ]
    },
    {
      "cell_type": "code",
      "execution_count": 1,
      "metadata": {
        "colab": {
          "base_uri": "https://localhost:8080/"
        },
        "id": "DpnMLNDl6yxr",
        "outputId": "15ffac77-9577-4c80-98f7-a57a3a335ef1"
      },
      "outputs": [
        {
          "output_type": "stream",
          "name": "stdout",
          "text": [
            "Drive already mounted at /content/drive; to attempt to forcibly remount, call drive.mount(\"/content/drive\", force_remount=True).\n"
          ]
        }
      ],
      "source": [
        "from google.colab import drive\n",
        "drive.mount('/content/drive')"
      ]
    },
    {
      "cell_type": "code",
      "source": [
        "! pip install tqdm\n",
        "import pandas as pd\n",
        "from collections import defaultdict\n",
        "from tqdm import tqdm \n",
        "from sklearn.metrics import mean_squared_error\n",
        "import math"
      ],
      "metadata": {
        "colab": {
          "base_uri": "https://localhost:8080/"
        },
        "id": "_UevaQmh66oi",
        "outputId": "1ac1dbde-4fac-43ba-f646-cbf0e66f97ce"
      },
      "execution_count": 2,
      "outputs": [
        {
          "output_type": "stream",
          "name": "stdout",
          "text": [
            "Looking in indexes: https://pypi.org/simple, https://us-python.pkg.dev/colab-wheels/public/simple/\n",
            "Requirement already satisfied: tqdm in /usr/local/lib/python3.7/dist-packages (4.64.1)\n"
          ]
        }
      ]
    },
    {
      "cell_type": "code",
      "source": [
        "df_reviews = pd.read_csv('/content/drive/MyDrive/CSE258/CA_reviews.csv')  "
      ],
      "metadata": {
        "id": "2sc9OHqa7GKz"
      },
      "execution_count": 3,
      "outputs": []
    },
    {
      "cell_type": "code",
      "source": [
        "df_reviews.head()"
      ],
      "metadata": {
        "colab": {
          "base_uri": "https://localhost:8080/",
          "height": 206
        },
        "id": "Qyox8S0X7KRC",
        "outputId": "a994a8c5-a984-4ce8-86b3-b93d8a57c9be"
      },
      "execution_count": 4,
      "outputs": [
        {
          "output_type": "execute_result",
          "data": {
            "text/plain": [
              "                review_id                 user_id             business_id  \\\n",
              "0  ZKvDG2sBvHVdF5oBNUOpAQ  wSTuiTk-sKNdcFyprzZAjg  B5XSoSG3SfvQGtKEGQ1tSQ   \n",
              "1  pUycOfUwM8vqX7KjRRhUEA  59MxRhNVhU9MYndMkz0wtw  gebiRewfieSdtt17PTW6Zg   \n",
              "2  eCiWBf1CJ0Zdv1uVarEhhw  OhECKhQEexFypOMY6kypRw  vC2qm1y3Au5czBtbhc-DNw   \n",
              "3  YbMyvlDA2W3Py5lTz8VK-A  4hBhtCSgoxkrFgHa4YAD-w  bbEXAEFr4RYHLlZ-HFssTA   \n",
              "4  L0jv8c2FbpWSlfNC6bbUEA  bFPdtzu11Oi0f92EAcjqmg  IDtLPgUrqorrpqSLdfMhZQ   \n",
              "\n",
              "   stars  useful  funny  cool  \\\n",
              "0    3.0       1      1     0   \n",
              "1    3.0       0      0     0   \n",
              "2    4.0       0      0     0   \n",
              "3    5.0       0      0     0   \n",
              "4    5.0       0      0     0   \n",
              "\n",
              "                                                text                 date  \n",
              "0  This easter instead of going to Lopez Lake we ...  2016-03-30 22:46:33  \n",
              "1  Had a party of 6 here for hibachi. Our waitres...  2016-07-25 07:31:06  \n",
              "2  Yes  this is the only sushi place in town. How...  2013-09-04 03:48:20  \n",
              "3  Great burgers fries and salad!  Burgers have a...  2017-01-02 03:17:34  \n",
              "4  What a great addition to the Funk Zone!  Grab ...  2016-10-13 22:50:47  "
            ],
            "text/html": [
              "\n",
              "  <div id=\"df-d5617f8c-a7f4-40d5-b801-8ca2adc7818d\">\n",
              "    <div class=\"colab-df-container\">\n",
              "      <div>\n",
              "<style scoped>\n",
              "    .dataframe tbody tr th:only-of-type {\n",
              "        vertical-align: middle;\n",
              "    }\n",
              "\n",
              "    .dataframe tbody tr th {\n",
              "        vertical-align: top;\n",
              "    }\n",
              "\n",
              "    .dataframe thead th {\n",
              "        text-align: right;\n",
              "    }\n",
              "</style>\n",
              "<table border=\"1\" class=\"dataframe\">\n",
              "  <thead>\n",
              "    <tr style=\"text-align: right;\">\n",
              "      <th></th>\n",
              "      <th>review_id</th>\n",
              "      <th>user_id</th>\n",
              "      <th>business_id</th>\n",
              "      <th>stars</th>\n",
              "      <th>useful</th>\n",
              "      <th>funny</th>\n",
              "      <th>cool</th>\n",
              "      <th>text</th>\n",
              "      <th>date</th>\n",
              "    </tr>\n",
              "  </thead>\n",
              "  <tbody>\n",
              "    <tr>\n",
              "      <th>0</th>\n",
              "      <td>ZKvDG2sBvHVdF5oBNUOpAQ</td>\n",
              "      <td>wSTuiTk-sKNdcFyprzZAjg</td>\n",
              "      <td>B5XSoSG3SfvQGtKEGQ1tSQ</td>\n",
              "      <td>3.0</td>\n",
              "      <td>1</td>\n",
              "      <td>1</td>\n",
              "      <td>0</td>\n",
              "      <td>This easter instead of going to Lopez Lake we ...</td>\n",
              "      <td>2016-03-30 22:46:33</td>\n",
              "    </tr>\n",
              "    <tr>\n",
              "      <th>1</th>\n",
              "      <td>pUycOfUwM8vqX7KjRRhUEA</td>\n",
              "      <td>59MxRhNVhU9MYndMkz0wtw</td>\n",
              "      <td>gebiRewfieSdtt17PTW6Zg</td>\n",
              "      <td>3.0</td>\n",
              "      <td>0</td>\n",
              "      <td>0</td>\n",
              "      <td>0</td>\n",
              "      <td>Had a party of 6 here for hibachi. Our waitres...</td>\n",
              "      <td>2016-07-25 07:31:06</td>\n",
              "    </tr>\n",
              "    <tr>\n",
              "      <th>2</th>\n",
              "      <td>eCiWBf1CJ0Zdv1uVarEhhw</td>\n",
              "      <td>OhECKhQEexFypOMY6kypRw</td>\n",
              "      <td>vC2qm1y3Au5czBtbhc-DNw</td>\n",
              "      <td>4.0</td>\n",
              "      <td>0</td>\n",
              "      <td>0</td>\n",
              "      <td>0</td>\n",
              "      <td>Yes  this is the only sushi place in town. How...</td>\n",
              "      <td>2013-09-04 03:48:20</td>\n",
              "    </tr>\n",
              "    <tr>\n",
              "      <th>3</th>\n",
              "      <td>YbMyvlDA2W3Py5lTz8VK-A</td>\n",
              "      <td>4hBhtCSgoxkrFgHa4YAD-w</td>\n",
              "      <td>bbEXAEFr4RYHLlZ-HFssTA</td>\n",
              "      <td>5.0</td>\n",
              "      <td>0</td>\n",
              "      <td>0</td>\n",
              "      <td>0</td>\n",
              "      <td>Great burgers fries and salad!  Burgers have a...</td>\n",
              "      <td>2017-01-02 03:17:34</td>\n",
              "    </tr>\n",
              "    <tr>\n",
              "      <th>4</th>\n",
              "      <td>L0jv8c2FbpWSlfNC6bbUEA</td>\n",
              "      <td>bFPdtzu11Oi0f92EAcjqmg</td>\n",
              "      <td>IDtLPgUrqorrpqSLdfMhZQ</td>\n",
              "      <td>5.0</td>\n",
              "      <td>0</td>\n",
              "      <td>0</td>\n",
              "      <td>0</td>\n",
              "      <td>What a great addition to the Funk Zone!  Grab ...</td>\n",
              "      <td>2016-10-13 22:50:47</td>\n",
              "    </tr>\n",
              "  </tbody>\n",
              "</table>\n",
              "</div>\n",
              "      <button class=\"colab-df-convert\" onclick=\"convertToInteractive('df-d5617f8c-a7f4-40d5-b801-8ca2adc7818d')\"\n",
              "              title=\"Convert this dataframe to an interactive table.\"\n",
              "              style=\"display:none;\">\n",
              "        \n",
              "  <svg xmlns=\"http://www.w3.org/2000/svg\" height=\"24px\"viewBox=\"0 0 24 24\"\n",
              "       width=\"24px\">\n",
              "    <path d=\"M0 0h24v24H0V0z\" fill=\"none\"/>\n",
              "    <path d=\"M18.56 5.44l.94 2.06.94-2.06 2.06-.94-2.06-.94-.94-2.06-.94 2.06-2.06.94zm-11 1L8.5 8.5l.94-2.06 2.06-.94-2.06-.94L8.5 2.5l-.94 2.06-2.06.94zm10 10l.94 2.06.94-2.06 2.06-.94-2.06-.94-.94-2.06-.94 2.06-2.06.94z\"/><path d=\"M17.41 7.96l-1.37-1.37c-.4-.4-.92-.59-1.43-.59-.52 0-1.04.2-1.43.59L10.3 9.45l-7.72 7.72c-.78.78-.78 2.05 0 2.83L4 21.41c.39.39.9.59 1.41.59.51 0 1.02-.2 1.41-.59l7.78-7.78 2.81-2.81c.8-.78.8-2.07 0-2.86zM5.41 20L4 18.59l7.72-7.72 1.47 1.35L5.41 20z\"/>\n",
              "  </svg>\n",
              "      </button>\n",
              "      \n",
              "  <style>\n",
              "    .colab-df-container {\n",
              "      display:flex;\n",
              "      flex-wrap:wrap;\n",
              "      gap: 12px;\n",
              "    }\n",
              "\n",
              "    .colab-df-convert {\n",
              "      background-color: #E8F0FE;\n",
              "      border: none;\n",
              "      border-radius: 50%;\n",
              "      cursor: pointer;\n",
              "      display: none;\n",
              "      fill: #1967D2;\n",
              "      height: 32px;\n",
              "      padding: 0 0 0 0;\n",
              "      width: 32px;\n",
              "    }\n",
              "\n",
              "    .colab-df-convert:hover {\n",
              "      background-color: #E2EBFA;\n",
              "      box-shadow: 0px 1px 2px rgba(60, 64, 67, 0.3), 0px 1px 3px 1px rgba(60, 64, 67, 0.15);\n",
              "      fill: #174EA6;\n",
              "    }\n",
              "\n",
              "    [theme=dark] .colab-df-convert {\n",
              "      background-color: #3B4455;\n",
              "      fill: #D2E3FC;\n",
              "    }\n",
              "\n",
              "    [theme=dark] .colab-df-convert:hover {\n",
              "      background-color: #434B5C;\n",
              "      box-shadow: 0px 1px 3px 1px rgba(0, 0, 0, 0.15);\n",
              "      filter: drop-shadow(0px 1px 2px rgba(0, 0, 0, 0.3));\n",
              "      fill: #FFFFFF;\n",
              "    }\n",
              "  </style>\n",
              "\n",
              "      <script>\n",
              "        const buttonEl =\n",
              "          document.querySelector('#df-d5617f8c-a7f4-40d5-b801-8ca2adc7818d button.colab-df-convert');\n",
              "        buttonEl.style.display =\n",
              "          google.colab.kernel.accessAllowed ? 'block' : 'none';\n",
              "\n",
              "        async function convertToInteractive(key) {\n",
              "          const element = document.querySelector('#df-d5617f8c-a7f4-40d5-b801-8ca2adc7818d');\n",
              "          const dataTable =\n",
              "            await google.colab.kernel.invokeFunction('convertToInteractive',\n",
              "                                                     [key], {});\n",
              "          if (!dataTable) return;\n",
              "\n",
              "          const docLinkHtml = 'Like what you see? Visit the ' +\n",
              "            '<a target=\"_blank\" href=https://colab.research.google.com/notebooks/data_table.ipynb>data table notebook</a>'\n",
              "            + ' to learn more about interactive tables.';\n",
              "          element.innerHTML = '';\n",
              "          dataTable['output_type'] = 'display_data';\n",
              "          await google.colab.output.renderOutput(dataTable, element);\n",
              "          const docLink = document.createElement('div');\n",
              "          docLink.innerHTML = docLinkHtml;\n",
              "          element.appendChild(docLink);\n",
              "        }\n",
              "      </script>\n",
              "    </div>\n",
              "  </div>\n",
              "  "
            ]
          },
          "metadata": {},
          "execution_count": 4
        }
      ]
    },
    {
      "cell_type": "code",
      "source": [
        "usersPerBusiness = defaultdict(set)\n",
        "businessesPerUser = defaultdict(set)\n",
        "ratingDict = {} # To retrieve a rating for a specific user/item pair"
      ],
      "metadata": {
        "id": "olIxycxy7Ocs"
      },
      "execution_count": 5,
      "outputs": []
    },
    {
      "cell_type": "code",
      "source": [
        "for idx, d in tqdm(df_reviews.iterrows()):\n",
        "    user,busn = d['user_id'], d['business_id']\n",
        "    usersPerBusiness[busn].add(user)\n",
        "    businessesPerUser[user].add(busn)\n",
        "    ratingDict[(user,busn)] = d['stars']"
      ],
      "metadata": {
        "colab": {
          "base_uri": "https://localhost:8080/"
        },
        "id": "XFzEo6un7Y3K",
        "outputId": "417a04d0-3aaf-49cc-a798-5cf2668dde82"
      },
      "execution_count": 6,
      "outputs": [
        {
          "output_type": "stream",
          "name": "stderr",
          "text": [
            "348856it [00:32, 10717.20it/s]\n"
          ]
        }
      ]
    },
    {
      "cell_type": "code",
      "source": [
        "userAverages = {}\n",
        "itemAverages = {}\n",
        "\n",
        "for u in businessesPerUser:\n",
        "    rs = [ratingDict[(u,i)] for i in businessesPerUser[u]]\n",
        "    userAverages[u] = sum(rs) / len(rs)\n",
        "    \n",
        "for i in usersPerBusiness:\n",
        "    rs = [ratingDict[(u,i)] for u in usersPerBusiness[i]]\n",
        "    itemAverages[i] = sum(rs) / len(rs)"
      ],
      "metadata": {
        "id": "6p1WqmUkJjaA"
      },
      "execution_count": 7,
      "outputs": []
    },
    {
      "cell_type": "code",
      "source": [
        "# usersPerBusiness"
      ],
      "metadata": {
        "id": "saMTDSaH8Bh1"
      },
      "execution_count": 8,
      "outputs": []
    },
    {
      "cell_type": "code",
      "source": [
        "# businessesPerUser"
      ],
      "metadata": {
        "id": "S7xCy6Fb8fil"
      },
      "execution_count": 9,
      "outputs": []
    },
    {
      "cell_type": "code",
      "source": [
        "def Jaccard(s1, s2):\n",
        "    numer = len(s1.intersection(s2))\n",
        "    denom = len(s1.union(s2))\n",
        "    return numer / denom"
      ],
      "metadata": {
        "id": "hwnZevel8kHH"
      },
      "execution_count": 10,
      "outputs": []
    },
    {
      "cell_type": "code",
      "source": [
        "def Cosine(i1, i2):\n",
        "    # Between two items\n",
        "    inter = usersPerBusiness[i1].intersection(usersPerBusiness[i2])\n",
        "    numer = 0\n",
        "    denom1 = 0\n",
        "    denom2 = 0\n",
        "    for u in inter:\n",
        "        numer += ratingDict[(u,i1)]*ratingDict[(u,i2)]\n",
        "    for u in usersPerBusiness[i1]:\n",
        "        denom1 += ratingDict[(u,i1)]**2\n",
        "    for u in usersPerBusiness[i2]:\n",
        "        denom2 += ratingDict[(u,i2)]**2\n",
        "    denom = math.sqrt(denom1) * math.sqrt(denom2)\n",
        "    if denom == 0: return 0\n",
        "    return numer / denom"
      ],
      "metadata": {
        "id": "UpAllB2zIVME"
      },
      "execution_count": 11,
      "outputs": []
    },
    {
      "cell_type": "code",
      "source": [
        "def Pearson(i1, i2):\n",
        "    # Between two items\n",
        "    iBar1 = itemAverages[i1]\n",
        "    iBar2 = itemAverages[i2]\n",
        "    inter = usersPerBusiness[i1].intersection(usersPerBusiness[i2])\n",
        "    numer = 0\n",
        "    denom1 = 0\n",
        "    denom2 = 0\n",
        "    for u in inter:\n",
        "        numer += (ratingDict[(u,i1)] - iBar1)*(ratingDict[(u,i2)] - iBar2)\n",
        "    for u in inter: #usersPerItem[i1]:\n",
        "        denom1 += (ratingDict[(u,i1)] - iBar1)**2\n",
        "    #for u in usersPerItem[i2]:\n",
        "        denom2 += (ratingDict[(u,i2)] - iBar2)**2\n",
        "    denom = math.sqrt(denom1) * math.sqrt(denom2)\n",
        "    if denom == 0: return 0\n",
        "    return numer / denom"
      ],
      "metadata": {
        "id": "yI48ez61IwhD"
      },
      "execution_count": 12,
      "outputs": []
    },
    {
      "cell_type": "code",
      "source": [
        "# def mostSimilar(i, sim_metric):\n",
        "#     similarities = []\n",
        "#     users = usersPerBusiness[i]\n",
        "#     for i2 in usersPerBusiness:\n",
        "#         if i2 == i: continue\n",
        "#         if sim_metric == 'Jaccard':\n",
        "#           sim = Jaccard(users, usersPerBusiness[i2])\n",
        "#         elif sim_metric == 'Pearson':\n",
        "#           sim = Pearson(i, i2)\n",
        "#         similarities.append((sim,i2))\n",
        "#     similarities.sort(reverse=True)\n",
        "#     return similarities[:10]"
      ],
      "metadata": {
        "id": "mh5MCHyO8qU6"
      },
      "execution_count": 13,
      "outputs": []
    },
    {
      "cell_type": "code",
      "source": [
        "# mostSimilar('Qkg16mN-8QR66gjzg6gMyw', 'Jaccard') # pass business id"
      ],
      "metadata": {
        "id": "N9n4KMqp802F"
      },
      "execution_count": 14,
      "outputs": []
    },
    {
      "cell_type": "code",
      "source": [
        "reviewsPerUser = defaultdict(list)\n",
        "reviewsPerBusiness = defaultdict(list)"
      ],
      "metadata": {
        "id": "MHzqkWyF8_1G"
      },
      "execution_count": 15,
      "outputs": []
    },
    {
      "cell_type": "code",
      "source": [
        "for idx, d in tqdm(df_reviews.iterrows()):\n",
        "    user,item = d['user_id'], d['business_id']\n",
        "    reviewsPerUser[user].append(d)\n",
        "    reviewsPerBusiness[item].append(d)"
      ],
      "metadata": {
        "colab": {
          "base_uri": "https://localhost:8080/"
        },
        "id": "jlI683Ft-QiV",
        "outputId": "8850a9f7-409a-4e31-840b-5b92e2239556"
      },
      "execution_count": 16,
      "outputs": [
        {
          "output_type": "stream",
          "name": "stderr",
          "text": [
            "348856it [00:27, 12779.88it/s]\n"
          ]
        }
      ]
    },
    {
      "cell_type": "code",
      "source": [
        "# reviewsPerUser"
      ],
      "metadata": {
        "id": "PMI2gqtW-vYO"
      },
      "execution_count": 17,
      "outputs": []
    },
    {
      "cell_type": "code",
      "source": [
        "# reviewsPerBusiness"
      ],
      "metadata": {
        "id": "deHZpsX2-1zZ"
      },
      "execution_count": 18,
      "outputs": []
    },
    {
      "cell_type": "code",
      "source": [
        "ratingMean = sum([d['stars'] for idx, d in df_reviews.iterrows()]) / len(df_reviews)"
      ],
      "metadata": {
        "id": "WBBKU0Pt_OkV"
      },
      "execution_count": 19,
      "outputs": []
    },
    {
      "cell_type": "code",
      "source": [
        "ratingMean"
      ],
      "metadata": {
        "colab": {
          "base_uri": "https://localhost:8080/"
        },
        "id": "zPshMrTl_sV5",
        "outputId": "da40440f-cd6c-4a1b-dc7e-d8f7a22a88a0"
      },
      "execution_count": 20,
      "outputs": [
        {
          "output_type": "execute_result",
          "data": {
            "text/plain": [
              "3.9600092874997133"
            ]
          },
          "metadata": {},
          "execution_count": 20
        }
      ]
    },
    {
      "cell_type": "code",
      "source": [
        "# reviewsPerUser"
      ],
      "metadata": {
        "id": "Xj_reO4YCPXw"
      },
      "execution_count": 21,
      "outputs": []
    },
    {
      "cell_type": "code",
      "source": [
        "def predictRating(user,item, sim_metric):\n",
        "    ratings = []\n",
        "    similarities = []\n",
        "    for d in reviewsPerUser[user]:\n",
        "        i2 = d['business_id']\n",
        "        if i2 == item: continue\n",
        "        ratings.append(d['stars'])\n",
        "        if sim_metric == \"Jaccard\":\n",
        "          sim = Jaccard(usersPerBusiness[item],usersPerBusiness[i2])\n",
        "        elif sim_metric == \"Cosine\":\n",
        "          sim = Cosine(i, i2)\n",
        "        elif sim_metric == \"Pearson\":\n",
        "          sim = Pearson(i, i2)\n",
        "        else:\n",
        "          continue\n",
        "        similarities.append(sim)\n",
        "    if (sum(similarities) > 0):\n",
        "        weightedRatings = [(x*y) for x,y in zip(ratings,similarities)]\n",
        "        return sum(weightedRatings) / sum(similarities)\n",
        "    else:\n",
        "        # User hasn't rated any similar items\n",
        "        return ratingMean"
      ],
      "metadata": {
        "id": "8bE5O2hy_yAP"
      },
      "execution_count": 22,
      "outputs": []
    },
    {
      "cell_type": "code",
      "source": [
        "u,i = 'OhECKhQEexFypOMY6kypRw',\t'vC2qm1y3Au5czBtbhc-DNw'"
      ],
      "metadata": {
        "id": "Ruf6omE0AAtP"
      },
      "execution_count": 23,
      "outputs": []
    },
    {
      "cell_type": "code",
      "source": [
        "predictRating(u, i, \"Jaccard\")"
      ],
      "metadata": {
        "colab": {
          "base_uri": "https://localhost:8080/"
        },
        "id": "fPRA5_-gASvK",
        "outputId": "4de8cd02-7cce-417c-c695-5fc4ec0c85a0"
      },
      "execution_count": 24,
      "outputs": [
        {
          "output_type": "execute_result",
          "data": {
            "text/plain": [
              "4.499975962776038"
            ]
          },
          "metadata": {},
          "execution_count": 24
        }
      ]
    },
    {
      "cell_type": "code",
      "source": [
        "predictRating(u, i, \"Cosine\")"
      ],
      "metadata": {
        "colab": {
          "base_uri": "https://localhost:8080/"
        },
        "id": "xVas3iG8LTRm",
        "outputId": "88b07f81-6fcd-4f51-d06c-c8a6c0f2c089"
      },
      "execution_count": 25,
      "outputs": [
        {
          "output_type": "execute_result",
          "data": {
            "text/plain": [
              "4.7240100460013945"
            ]
          },
          "metadata": {},
          "execution_count": 25
        }
      ]
    },
    {
      "cell_type": "code",
      "source": [
        "predictRating(u, i, \"Pearson\")"
      ],
      "metadata": {
        "colab": {
          "base_uri": "https://localhost:8080/"
        },
        "id": "b82JcveYLREj",
        "outputId": "73b8d505-bbc2-4c9d-9e5c-f9eaf6df1551"
      },
      "execution_count": 26,
      "outputs": [
        {
          "output_type": "execute_result",
          "data": {
            "text/plain": [
              "5.60050644960074"
            ]
          },
          "metadata": {},
          "execution_count": 26
        }
      ]
    },
    {
      "cell_type": "code",
      "source": [
        "labels = [d['stars'] for idx, d in tqdm(df_reviews.iterrows())]\n",
        "labels[:5]"
      ],
      "metadata": {
        "colab": {
          "base_uri": "https://localhost:8080/"
        },
        "id": "MUVXboVSBMnJ",
        "outputId": "200a9a0c-db28-419d-ba57-f624d1906dd0"
      },
      "execution_count": 27,
      "outputs": [
        {
          "output_type": "stream",
          "name": "stderr",
          "text": [
            "348856it [00:21, 15875.98it/s]\n"
          ]
        },
        {
          "output_type": "execute_result",
          "data": {
            "text/plain": [
              "[3.0, 3.0, 4.0, 5.0, 5.0]"
            ]
          },
          "metadata": {},
          "execution_count": 27
        }
      ]
    },
    {
      "cell_type": "code",
      "source": [
        "jac_Predictions = [predictRating(d['user_id'], d['business_id'], \"Jaccard\") for idx, d in tqdm(df_reviews.iterrows())]"
      ],
      "metadata": {
        "colab": {
          "base_uri": "https://localhost:8080/"
        },
        "id": "SGb6HIeUAtyj",
        "outputId": "1436c990-af4a-4acf-e097-2291a1f8a69d"
      },
      "execution_count": 28,
      "outputs": [
        {
          "output_type": "stream",
          "name": "stderr",
          "text": [
            "348856it [05:17, 1098.63it/s]\n"
          ]
        }
      ]
    },
    {
      "cell_type": "code",
      "source": [
        "jac_Predictions[:5]"
      ],
      "metadata": {
        "colab": {
          "base_uri": "https://localhost:8080/"
        },
        "id": "ejic32IbB5Ev",
        "outputId": "e72c173b-2052-49db-bdc4-71351edba1eb"
      },
      "execution_count": 29,
      "outputs": [
        {
          "output_type": "execute_result",
          "data": {
            "text/plain": [
              "[3.9600092874997133,\n",
              " 4.118875857627681,\n",
              " 4.499975962776038,\n",
              " 4.011983736241189,\n",
              " 3.9600092874997133]"
            ]
          },
          "metadata": {},
          "execution_count": 29
        }
      ]
    },
    {
      "cell_type": "code",
      "source": [
        "mean_squared_error(jac_Predictions, labels)"
      ],
      "metadata": {
        "colab": {
          "base_uri": "https://localhost:8080/"
        },
        "id": "v8U-tMpQAUww",
        "outputId": "dbbc76af-4fbd-429b-dcbe-e99014ca5cce"
      },
      "execution_count": 30,
      "outputs": [
        {
          "output_type": "execute_result",
          "data": {
            "text/plain": [
              "2.1566944903106458"
            ]
          },
          "metadata": {},
          "execution_count": 30
        }
      ]
    },
    {
      "cell_type": "code",
      "source": [
        "cos_Predictions = [predictRating(d['user_id'], d['business_id'], \"Cosine\") for idx, d in tqdm(df_reviews.iterrows())]"
      ],
      "metadata": {
        "colab": {
          "base_uri": "https://localhost:8080/"
        },
        "outputId": "922696a9-800f-45b3-ee10-a43ed57d011e",
        "id": "loNWPi7LLeI3"
      },
      "execution_count": 31,
      "outputs": [
        {
          "output_type": "stream",
          "name": "stderr",
          "text": [
            "348856it [27:24, 212.18it/s]\n"
          ]
        }
      ]
    },
    {
      "cell_type": "code",
      "source": [
        "cos_Predictions[:5]"
      ],
      "metadata": {
        "colab": {
          "base_uri": "https://localhost:8080/"
        },
        "outputId": "24ded979-8c2a-48ec-fca7-7bb066e12582",
        "id": "88Q1njGNLeI4"
      },
      "execution_count": 32,
      "outputs": [
        {
          "output_type": "execute_result",
          "data": {
            "text/plain": [
              "[3.9600092874997133,\n",
              " 2.8661167161084204,\n",
              " 4.7240100460013945,\n",
              " 4.094605275408924,\n",
              " 3.9600092874997133]"
            ]
          },
          "metadata": {},
          "execution_count": 32
        }
      ]
    },
    {
      "cell_type": "code",
      "source": [
        "mean_squared_error(cos_Predictions, labels)"
      ],
      "metadata": {
        "colab": {
          "base_uri": "https://localhost:8080/"
        },
        "outputId": "ff8f615e-c20d-4726-9fd0-86a5bd427bfa",
        "id": "Dg9n6s-BLeI5"
      },
      "execution_count": 33,
      "outputs": [
        {
          "output_type": "execute_result",
          "data": {
            "text/plain": [
              "2.2216698406558133"
            ]
          },
          "metadata": {},
          "execution_count": 33
        }
      ]
    },
    {
      "cell_type": "code",
      "source": [
        "pear_Predictions = [predictRating(d['user_id'], d['business_id'], \"Pearson\") for idx, d in tqdm(df_reviews.iterrows())]"
      ],
      "metadata": {
        "colab": {
          "base_uri": "https://localhost:8080/"
        },
        "outputId": "21e9d784-d3e4-4d69-d411-24770edbce85",
        "id": "BjWWo_6DLfWt"
      },
      "execution_count": 37,
      "outputs": [
        {
          "output_type": "stream",
          "name": "stderr",
          "text": [
            "348856it [02:07, 2729.37it/s]\n"
          ]
        }
      ]
    },
    {
      "cell_type": "code",
      "source": [
        "pear_Predictions[:5]"
      ],
      "metadata": {
        "colab": {
          "base_uri": "https://localhost:8080/"
        },
        "outputId": "da6a3b78-ccf2-4a14-f568-58641db0c263",
        "id": "zq3VInzCLfWu"
      },
      "execution_count": 38,
      "outputs": [
        {
          "output_type": "execute_result",
          "data": {
            "text/plain": [
              "[3.9600092874997133,\n",
              " -0.4634220262522913,\n",
              " 5.60050644960074,\n",
              " 3.9600092874997133,\n",
              " 3.9600092874997133]"
            ]
          },
          "metadata": {},
          "execution_count": 38
        }
      ]
    },
    {
      "cell_type": "code",
      "source": [
        "mean_squared_error(pear_Predictions, labels)"
      ],
      "metadata": {
        "colab": {
          "base_uri": "https://localhost:8080/"
        },
        "outputId": "66235725-07ee-4699-f183-bf2bc466ad4f",
        "id": "m_7HpJGQLfWv"
      },
      "execution_count": 39,
      "outputs": [
        {
          "output_type": "execute_result",
          "data": {
            "text/plain": [
              "5.087173598661708e+27"
            ]
          },
          "metadata": {},
          "execution_count": 39
        }
      ]
    }
  ]
}