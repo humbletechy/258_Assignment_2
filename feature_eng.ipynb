{
  "cells": [
    {
      "cell_type": "markdown",
      "metadata": {
        "colab_type": "text",
        "id": "view-in-github"
      },
      "source": [
        "<a href=\"https://colab.research.google.com/github/humbletechy/258_Assignment_2/blob/main/feature_eng.ipynb\" target=\"_parent\"><img src=\"https://colab.research.google.com/assets/colab-badge.svg\" alt=\"Open In Colab\"/></a>"
      ]
    },
    {
      "cell_type": "code",
      "execution_count": 1,
      "metadata": {
        "colab": {
          "base_uri": "https://localhost:8080/"
        },
        "id": "K81tIG0obw29",
        "outputId": "3c596d3e-e7b2-474f-945c-cc5c5c83282c"
      },
      "outputs": [
        {
          "name": "stdout",
          "output_type": "stream",
          "text": [
            "Mounted at /content/drive\n"
          ]
        }
      ],
      "source": [
        "from google.colab import drive\n",
        "drive.mount('/content/drive')"
      ]
    },
    {
      "cell_type": "code",
      "execution_count": 2,
      "metadata": {
        "id": "9Kx0_T31bt0o"
      },
      "outputs": [],
      "source": [
        "import numpy as np\n",
        "import pandas as pd\n",
        "from collections import defaultdict"
      ]
    },
    {
      "cell_type": "code",
      "execution_count": 3,
      "metadata": {
        "id": "zeYnfaWTbt0q"
      },
      "outputs": [],
      "source": [
        "df_business = pd.read_csv('/content/drive/MyDrive/CSE258/CA_businesses.csv')  \n",
        "df_reviews = pd.read_csv('/content/drive/MyDrive/CSE258/CA_reviews.csv') \n",
        "df_tipdata = pd.read_csv('/content/drive/MyDrive/CSE258/CA_tipdata.csv') \n",
        "df_userdata = pd.read_csv('/content/drive/MyDrive/CSE258/CA_userdata.csv') "
      ]
    },
    {
      "cell_type": "code",
      "execution_count": 3,
      "metadata": {},
      "outputs": [],
      "source": [
        "# df_business = pd.read_csv('../CA_businesses.csv')  \n",
        "# df_reviews = pd.read_csv('../CA_reviews.csv') \n",
        "# df_tipdata = pd.read_csv('../CA_tipdata.csv') \n",
        "# df_userdata = pd.read_csv('../CA_userdata.csv') "
      ]
    },
    {
      "cell_type": "code",
      "execution_count": 4,
      "metadata": {
        "id": "P1tPnCGTjIXF"
      },
      "outputs": [],
      "source": [
        "business_review = defaultdict(int)\n",
        "for row in df_business.iterrows():\n",
        "  business_review[row[1]['business_id']] = row[1]['review_count']"
      ]
    },
    {
      "cell_type": "code",
      "execution_count": 5,
      "metadata": {
        "id": "1lMT2sFvbt0s"
      },
      "outputs": [],
      "source": [
        "def get_review_count_business(bid):\n",
        "    return [business_review[bid]]"
      ]
    },
    {
      "cell_type": "code",
      "execution_count": 6,
      "metadata": {
        "id": "J2B_3dTFj57z"
      },
      "outputs": [],
      "source": [
        "user_review = defaultdict(int)\n",
        "for row in df_userdata.iterrows():\n",
        "  user_review[row[1]['user_id']] = row[1]['review_count']"
      ]
    },
    {
      "cell_type": "code",
      "execution_count": 7,
      "metadata": {
        "id": "H4j0BsmGbt0s"
      },
      "outputs": [],
      "source": [
        "def get_review_count_user(uid):\n",
        "    return [user_review[uid]]"
      ]
    },
    {
      "cell_type": "code",
      "execution_count": 36,
      "metadata": {
        "id": "Tb5x_-BykgQZ"
      },
      "outputs": [],
      "source": [
        "# from typing import List\n",
        "user_elite = defaultdict(list)\n",
        "for row in df_userdata.iterrows():\n",
        "  val = list(row[1]['elite'].split(\",\"))\n",
        "  if len(val) > 0:\n",
        "     user_elite[row[1]['user_id']] = val"
      ]
    },
    {
      "cell_type": "code",
      "execution_count": 37,
      "metadata": {
        "colab": {
          "base_uri": "https://localhost:8080/"
        },
        "id": "1BlXfrGXlXyy",
        "outputId": "9439285c-e301-4384-c98e-a63056fcb889"
      },
      "outputs": [
        {
          "data": {
            "text/plain": [
              "['']"
            ]
          },
          "execution_count": 37,
          "metadata": {},
          "output_type": "execute_result"
        }
      ],
      "source": [
        "user_elite[\"wSTuiTk-sKNdcFyprzZAjg\"]"
      ]
    },
    {
      "cell_type": "code",
      "execution_count": 38,
      "metadata": {
        "id": "_P99ReFjbt0s"
      },
      "outputs": [],
      "source": [
        "def get_elite_in_year(uid, year):\n",
        "    val = user_elite[uid]\n",
        "    if len(val) > 0:\n",
        "      return [int(year in val)]\n",
        "    else:\n",
        "      return [0]"
      ]
    },
    {
      "cell_type": "code",
      "execution_count": 9,
      "metadata": {
        "id": "_MbMimpZmCX7"
      },
      "outputs": [],
      "source": [
        "user_yelp = defaultdict(int)\n",
        "for row in df_userdata.iterrows():\n",
        "  user_yelp[row[1]['user_id']] = int(row[1]['yelping_since'][0][:4])"
      ]
    },
    {
      "cell_type": "code",
      "execution_count": 10,
      "metadata": {
        "id": "TLXbrJb6bt0t"
      },
      "outputs": [],
      "source": [
        "def get_yelping_since(uid, curr_year):\n",
        "    year = user_yelp[uid]\n",
        "    return [curr_year - year]"
      ]
    },
    {
      "cell_type": "code",
      "execution_count": 11,
      "metadata": {
        "id": "195ZwL4nmc_J"
      },
      "outputs": [],
      "source": [
        "business_stars = defaultdict(int)\n",
        "for row in df_business.iterrows():\n",
        "  business_stars[row[1]['business_id']] = int(row[1]['stars'])"
      ]
    },
    {
      "cell_type": "code",
      "execution_count": 12,
      "metadata": {
        "id": "cWqA8wGcbt0t"
      },
      "outputs": [],
      "source": [
        "def get_business_stars(bid):\n",
        "    return [business_stars[bid]]\n",
        "    "
      ]
    },
    {
      "cell_type": "code",
      "execution_count": 13,
      "metadata": {
        "id": "Ls2m99-lmi1n"
      },
      "outputs": [],
      "source": [
        "user_stars = defaultdict(int)\n",
        "for row in df_userdata.iterrows():\n",
        "  user_stars[row[1]['user_id']] = float(row[1]['average_stars'])"
      ]
    },
    {
      "cell_type": "code",
      "execution_count": 14,
      "metadata": {
        "id": "S0lsx2v9bt0t"
      },
      "outputs": [],
      "source": [
        "def get_average_stars(uid):\n",
        "    return [user_stars[uid]]"
      ]
    },
    {
      "cell_type": "code",
      "execution_count": 39,
      "metadata": {
        "id": "4s0jXNKZnEIq"
      },
      "outputs": [],
      "source": [
        "user_elite_years = defaultdict(int)\n",
        "for row in df_userdata.iterrows():\n",
        "  user_elite_years[row[1]['user_id']] = len(list(row[1]['elite'].split(\",\")))"
      ]
    },
    {
      "cell_type": "code",
      "execution_count": 40,
      "metadata": {
        "id": "Pu-foHu8bt0u"
      },
      "outputs": [],
      "source": [
        "def get_num_elite_years(uid):\n",
        "    return [user_elite_years[uid]]"
      ]
    },
    {
      "cell_type": "code",
      "execution_count": 41,
      "metadata": {
        "id": "sn6AJGonbt0u"
      },
      "outputs": [],
      "source": [
        "def isNaN(num):\n",
        "    return num != num"
      ]
    },
    {
      "cell_type": "code",
      "execution_count": 42,
      "metadata": {
        "id": "pN_1KPedbt0u"
      },
      "outputs": [],
      "source": [
        "business_to_avgrating = defaultdict(list)\n",
        "for row in df_business_updated.iterrows():\n",
        "  bid = row[1]['business_id']\n",
        "  ohe_values = (df_business_updated.loc[df_business_updated['business_id'] == bid])[['Restaurantsavg_rating', 'Shoppingavg_rating',\n",
        "       'Foodavg_rating', 'Home Servicesavg_rating',\n",
        "       'Health & Medicalavg_rating', 'Event Planning & Servicesavg_rating',\n",
        "       'Local Servicesavg_rating', 'Beauty & Spasavg_rating',\n",
        "       'Active Lifeavg_rating', 'Automotiveavg_rating', 'Nightlifeavg_rating',\n",
        "       'Hotels & Travelavg_rating', 'Barsavg_rating',\n",
        "       'Arts & Entertainmentavg_rating', 'Professional Servicesavg_rating',\n",
        "       'Fashionavg_rating', 'Doctorsavg_rating', 'Home & Gardenavg_rating',\n",
        "       'American (New)avg_rating', 'Mexicanavg_rating',\n",
        "       'Coffee & Teaavg_rating', 'Hair Salonsavg_rating',\n",
        "       'Sandwichesavg_rating', 'Breakfast & Brunchavg_rating',\n",
        "       'Real Estateavg_rating', 'Auto Repairavg_rating',\n",
        "       'Fitness & Instructionavg_rating']]\n",
        "  business_to_avgrating[bid] = list(ohe_values.iloc[0])"
      ]
    },
    {
      "cell_type": "code",
      "execution_count": 43,
      "metadata": {
        "id": "M2-p-JveoRc3"
      },
      "outputs": [],
      "source": [
        "def get_avg_category_ratings(business_id):\n",
        "  return business_to_avgrating[business_id]"
      ]
    },
    {
      "cell_type": "code",
      "execution_count": 44,
      "metadata": {
        "id": "JsCucO6DoSqi"
      },
      "outputs": [],
      "source": [
        "business_to_categ = defaultdict(list)\n",
        "for row in df_business_updated.iterrows():\n",
        "  bid = row[1]['business_id']\n",
        "  ohe_values = (df_business_updated.loc[df_business_updated['business_id'] == bid])[['Restaurants', 'Shopping', 'Food',\n",
        "       'Home Services', 'Health & Medical', 'Event Planning & Services',\n",
        "       'Local Services', 'Beauty & Spas', 'Active Life', 'Automotive',\n",
        "       'Nightlife', 'Hotels & Travel', 'Bars', 'Arts & Entertainment',\n",
        "       'Professional Services', 'Fashion', 'Doctors', 'Home & Garden',\n",
        "       'American (New)', 'Mexican', 'Coffee & Tea', 'Hair Salons',\n",
        "       'Sandwiches', 'Breakfast & Brunch', 'Real Estate', 'Auto Repair',\n",
        "       'Fitness & Instruction']]\n",
        "  business_to_categ[bid] = list(ohe_values.iloc[0])"
      ]
    },
    {
      "cell_type": "code",
      "execution_count": 45,
      "metadata": {
        "id": "Ffz0J2WGbt0v"
      },
      "outputs": [],
      "source": [
        "def get_category(business_id):\n",
        "  return business_to_categ[business_id]"
      ]
    },
    {
      "cell_type": "code",
      "execution_count": 22,
      "metadata": {
        "id": "hU77kduYbt0v"
      },
      "outputs": [],
      "source": [
        "def preprocess_business():\n",
        "    categories = ['Restaurants', 'Shopping', 'Food', 'Home Services',\n",
        "                  'Health & Medical', 'Event Planning & Services',\n",
        "                  'Local Services', 'Beauty & Spas', 'Active Life', \n",
        "                  'Automotive', 'Nightlife', 'Hotels & Travel', 'Bars', \n",
        "                  'Arts & Entertainment', 'Professional Services', \n",
        "                  'Fashion', 'Doctors', 'Home & Garden', 'American (New)', \n",
        "                  'Mexican', 'Coffee & Tea', 'Hair Salons', 'Sandwiches', \n",
        "                  'Breakfast & Brunch', 'Real Estate', 'Auto Repair', 'Fitness & Instruction']\n",
        "\n",
        "    avg_category_rating = defaultdict(int)\n",
        "    all_categories = defaultdict(int)\n",
        "    num_category_reviews = defaultdict(int)\n",
        "    df_new = df_business[['categories','stars', 'review_count']]\n",
        "\n",
        "    \n",
        "    df_business_updated = df_business.copy()\n",
        "    \n",
        "    for categ in categories:\n",
        "        df_business_updated[categ] = 0\n",
        "\n",
        "    for idx, row in df_business_updated.iterrows():\n",
        "        # print(row)\n",
        "        ll = row['categories']\n",
        "        ll = str(ll)\n",
        "        if ll and ll!='nan':\n",
        "            categs = ll.split(',')\n",
        "            for categ in categs:\n",
        "                categ = categ.strip()\n",
        "                if categ in categories:\n",
        "                    df_business_updated.at[idx, categ] = 1\n",
        "\n",
        "    for categ in categories:\n",
        "        df_business_updated[categ+'avg_rating'] = 0.00\n",
        "    \n",
        "    for idx, row in df_new.iterrows():\n",
        "        ll = row['categories']\n",
        "        ll = str(ll)\n",
        "        if ll and ll!='nan':\n",
        "            categs = ll.split(',')\n",
        "            for categ in categs:\n",
        "                categ = categ.strip()\n",
        "                all_categories[categ]+=1\n",
        "                avg_category_rating[categ] += row['stars']\n",
        "                num_category_reviews[categ] += row['review_count']\n",
        "\n",
        "    for key, value in avg_category_rating.items():\n",
        "        avg_category_rating[key] /= all_categories[key]\n",
        "\n",
        "    for idx, row in df_business_updated.iterrows():\n",
        "        for categ in categories:\n",
        "            if df_business_updated.at[idx, categ] == 1:\n",
        "                df_business_updated.at[idx, categ+'avg_rating'] = avg_category_rating[categ]\n",
        "    \n",
        "    return df_business_updated\n",
        "\n",
        "    "
      ]
    },
    {
      "cell_type": "code",
      "execution_count": 23,
      "metadata": {
        "id": "3J9KvHsDbt0w"
      },
      "outputs": [],
      "source": [
        "def preprocess_user_data():\n",
        "\n",
        "    user_id_to_fan = {}\n",
        "    user_id_to_useful = {}\n",
        "    user_id_to_funny = {}\n",
        "    user_id_to_cool = {}\n",
        "    user_id_to_num_friends = {}\n",
        "    df_userdata_friends_rating = {}\n",
        "    user_id_to_rating = {}\n",
        "\n",
        "    df_userdata['elite'] = df_userdata['elite'].fillna(\"\")\n",
        "\n",
        "    df_userdata_friends = df_userdata['friends'].to_list()\n",
        "    df_userdata_rating = df_userdata['average_stars'].to_list()\n",
        "    df_userdata_user_ids = df_userdata['user_id'].to_list()\n",
        "    df_userdata_fans = df_userdata['fans'].to_list()\n",
        "\n",
        "    for i in range(0, len(df_userdata_user_ids)):\n",
        "        user_id_to_fan[df_userdata_user_ids[i]] = [df_userdata_fans[i]]\n",
        "\n",
        "    df_userdata_useful = df_userdata['useful'].to_list()\n",
        "\n",
        "    for i in range(0, len(df_userdata_user_ids)):\n",
        "        user_id_to_useful[df_userdata_user_ids[i]] = [df_userdata_useful[i]]\n",
        "\n",
        "    df_userdata_funny = df_userdata['funny'].to_list()\n",
        "\n",
        "    for i in range(0, len(df_userdata_user_ids)):\n",
        "        user_id_to_funny[df_userdata_user_ids[i]] = [df_userdata_funny[i]]\n",
        "\n",
        "    df_userdata_cool = df_userdata['cool'].to_list()\n",
        "\n",
        "    for i in range(0, len(df_userdata_user_ids)):\n",
        "        user_id_to_cool[df_userdata_user_ids[i]] = [df_userdata_cool[i]]\n",
        "    \n",
        "    df_userdata_friends = df_userdata['friends'].to_list()\n",
        "\n",
        "    for i in range(0, len(df_userdata_user_ids)):\n",
        "        user_id_to_num_friends[df_userdata_user_ids[i]] = [len(df_userdata_friends[i].split(\", \"))]\n",
        "    \n",
        "    for i in range(0, len(df_userdata_user_ids)):\n",
        "        user_id_to_rating[df_userdata_user_ids[i]] = df_userdata_rating[i]\n",
        "\n",
        "    for i in range(0, len(df_userdata_user_ids)):\n",
        "        friend_list = df_userdata_friends[i].split(\", \")\n",
        "        total_stars = 0\n",
        "        count = 0\n",
        "\n",
        "        for friend in friend_list:\n",
        "            if friend in user_id_to_rating.keys():\n",
        "                total_stars += user_id_to_rating[friend]\n",
        "                count += 1\n",
        "\n",
        "        if (count != 0):\n",
        "            df_userdata_friends_rating[df_userdata_user_ids[i]] = [total_stars/count]\n",
        "        else:\n",
        "            df_userdata_friends_rating[df_userdata_user_ids[i]] = [0]\n",
        "\n",
        "\n",
        "    return user_id_to_fan, user_id_to_useful,\\\n",
        "           user_id_to_funny, user_id_to_cool, \\\n",
        "           user_id_to_num_friends, \\\n",
        "           df_userdata_friends_rating \n",
        "\n",
        "\n"
      ]
    },
    {
      "cell_type": "code",
      "execution_count": 24,
      "metadata": {
        "id": "GZrQ50WTbt0w"
      },
      "outputs": [],
      "source": [
        "def number_of_fans_lookup(id):\n",
        "    return user_id_to_fan.get(id, [0])"
      ]
    },
    {
      "cell_type": "code",
      "execution_count": 25,
      "metadata": {
        "id": "-9DNoxM9bt0x"
      },
      "outputs": [],
      "source": [
        "def number_of_useful_lookup(id):\n",
        "    return user_id_to_useful.get(id, [0])"
      ]
    },
    {
      "cell_type": "code",
      "execution_count": 26,
      "metadata": {
        "id": "sRe1JKaAbt0x"
      },
      "outputs": [],
      "source": [
        "def number_of_funny_lookup(id):\n",
        "    return user_id_to_funny.get(id, [0])"
      ]
    },
    {
      "cell_type": "code",
      "execution_count": 27,
      "metadata": {
        "id": "tCpPY-Robt0x"
      },
      "outputs": [],
      "source": [
        "def number_of_cool_lookup(id):\n",
        "    return user_id_to_cool.get(id, [0])"
      ]
    },
    {
      "cell_type": "code",
      "execution_count": 28,
      "metadata": {
        "id": "mIfowaR7bt0x"
      },
      "outputs": [],
      "source": [
        "def number_of_friends_lookup(id):\n",
        "    return user_id_to_num_friends.get(id, [0])"
      ]
    },
    {
      "cell_type": "code",
      "execution_count": 29,
      "metadata": {
        "id": "8QK9HsW4bt0x"
      },
      "outputs": [],
      "source": [
        "def friends_rating_lookup(id):\n",
        "    return df_userdata_friends_rating.get(id, [0])"
      ]
    },
    {
      "cell_type": "code",
      "execution_count": 30,
      "metadata": {
        "id": "BY5_UPmbbt0y"
      },
      "outputs": [],
      "source": [
        "def preprocess_reviews():\n",
        "    review_timestamps = df_reviews['date'].tolist()\n",
        "    review_id = df_reviews['review_id'].to_list()\n",
        "    review_years = [((int)(a[:4])) for a in review_timestamps]\n",
        "    review_year_vector = {}\n",
        "\n",
        "    for i in range(0, len(review_years)):\n",
        "        one_hot_vector = [0]*18\n",
        "        one_hot_vector[review_years[i]-2005] = 1\n",
        "        review_year_vector[review_id[i]] = one_hot_vector\n",
        "\n",
        "    review_months = [((int)(a[5:7])) for a in review_timestamps]\n",
        "    review_month_vector = {}\n",
        "\n",
        "    for i in range(0, len(review_months)):\n",
        "        one_hot_vector = [0]*4\n",
        "        one_hot_vector[(int)((review_months[i]-1)/3)] = 1\n",
        "        review_month_vector[review_id[i]] = one_hot_vector\n",
        "\n",
        "    return review_year_vector, review_month_vector"
      ]
    },
    {
      "cell_type": "code",
      "execution_count": 31,
      "metadata": {
        "id": "io9RUyOCbt0y"
      },
      "outputs": [],
      "source": [
        "def year_feature_lookup(id):\n",
        "    return review_year_vector[id]"
      ]
    },
    {
      "cell_type": "code",
      "execution_count": 32,
      "metadata": {
        "id": "Gxl3oW9obt0y"
      },
      "outputs": [],
      "source": [
        "def month_feature_lookup(id):\n",
        "    return review_month_vector[id]"
      ]
    },
    {
      "cell_type": "code",
      "execution_count": 33,
      "metadata": {
        "id": "S2T3DAUnbt0y"
      },
      "outputs": [],
      "source": [
        "df_business_updated = preprocess_business()"
      ]
    },
    {
      "cell_type": "code",
      "execution_count": 34,
      "metadata": {
        "id": "LyC6Ptwsbt0y"
      },
      "outputs": [],
      "source": [
        "user_id_to_fan, user_id_to_useful,\\\n",
        "user_id_to_funny, user_id_to_cool, \\\n",
        "user_id_to_num_friends, \\\n",
        "df_userdata_friends_rating = preprocess_user_data()"
      ]
    },
    {
      "cell_type": "code",
      "execution_count": 35,
      "metadata": {
        "id": "l4sE7wvMbt0y"
      },
      "outputs": [],
      "source": [
        "review_year_vector, review_month_vector = preprocess_reviews()"
      ]
    },
    {
      "cell_type": "code",
      "execution_count": 46,
      "metadata": {
        "id": "DwFXVPXBbt0z"
      },
      "outputs": [],
      "source": [
        "import time\n",
        "def feat(uid, bid, rid, year):\n",
        "    t = []\n",
        "    t1 = time.time()\n",
        "    rc_b = get_review_count_business(bid)\n",
        "    t2 = time.time()\n",
        "    t.append(t2-t1)\n",
        "    rc_u = get_review_count_user(uid)\n",
        "    t3 = time.time()\n",
        "    t.append(t3-t2)\n",
        "    elite = get_elite_in_year(uid, year-1)\n",
        "    t4 = time.time()\n",
        "    t.append(t4-t3)\n",
        "    yelping = get_yelping_since(uid, year)\n",
        "    t5 = time.time()\n",
        "    t.append(t5-t4)\n",
        "    b_stars = get_business_stars(bid)\n",
        "    t6 = time.time()\n",
        "    t.append(t6-t5)\n",
        "    u_stars = get_average_stars(uid)\n",
        "    t7 = time.time()\n",
        "    t.append(t7-t6)\n",
        "    n_elite = get_num_elite_years(uid)\n",
        "    t8 = time.time()\n",
        "    t.append(t8-t7)\n",
        "    avg_categ_ratings = get_avg_category_ratings(bid)\n",
        "    t9 = time.time()\n",
        "    t.append(t9-t8)\n",
        "    categ = get_category(bid)\n",
        "    t10 = time.time()\n",
        "    t.append(t10-t9)\n",
        "    n_fans = number_of_fans_lookup(uid)\n",
        "    t11 = time.time()\n",
        "    t.append(t11-t10)\n",
        "    n_useful = number_of_useful_lookup(uid)\n",
        "    t12 = time.time()\n",
        "    t.append(t12-t11)\n",
        "    n_funny = number_of_funny_lookup(uid)\n",
        "    t13 = time.time()\n",
        "    t.append(t13-t12)\n",
        "    n_cool = number_of_cool_lookup(uid)\n",
        "    t14 = time.time()\n",
        "    t.append(t14-t13)\n",
        "    n_friends = number_of_friends_lookup(uid)\n",
        "    t15 = time.time()\n",
        "    t.append(t15-t14)\n",
        "    ave_rating_fr = friends_rating_lookup(uid)\n",
        "    t16 = time.time()\n",
        "    t.append(t16-t15)\n",
        "    year_vector = year_feature_lookup(rid)\n",
        "    t17 = time.time()\n",
        "    t.append(t17-t16)\n",
        "    month_vector = month_feature_lookup(rid)\n",
        "    t18 = time.time()\n",
        "    t.append(t18-t17)\n",
        "    \n",
        "    feat_vec = rc_b + rc_u + elite + yelping + b_stars + u_stars + \\\n",
        "            n_elite + avg_categ_ratings + categ + n_fans + n_useful + \\\n",
        "            n_funny + n_cool + n_friends + ave_rating_fr + year_vector + \\\n",
        "            month_vector\n",
        "    t19 = time.time()\n",
        "    t.append(t19-t18)\n",
        "    # print(t)\n",
        "    return np.array(feat_vec)\n",
        "    "
      ]
    },
    {
      "cell_type": "code",
      "execution_count": 47,
      "metadata": {
        "colab": {
          "base_uri": "https://localhost:8080/"
        },
        "id": "G5bVGV2Tbt0z",
        "outputId": "810e9152-ea2e-427d-941a-131f2c1d51a0"
      },
      "outputs": [
        {
          "data": {
            "text/plain": [
              "array([1.30000000e+01, 2.40000000e+01, 0.00000000e+00, 2.01400000e+03,\n",
              "       4.00000000e+00, 1.84000000e+00, 1.00000000e+00, 0.00000000e+00,\n",
              "       0.00000000e+00, 0.00000000e+00, 0.00000000e+00, 0.00000000e+00,\n",
              "       0.00000000e+00, 0.00000000e+00, 0.00000000e+00, 4.39701897e+00,\n",
              "       0.00000000e+00, 0.00000000e+00, 0.00000000e+00, 0.00000000e+00,\n",
              "       0.00000000e+00, 0.00000000e+00, 0.00000000e+00, 0.00000000e+00,\n",
              "       0.00000000e+00, 0.00000000e+00, 0.00000000e+00, 0.00000000e+00,\n",
              "       0.00000000e+00, 0.00000000e+00, 0.00000000e+00, 0.00000000e+00,\n",
              "       0.00000000e+00, 0.00000000e+00, 0.00000000e+00, 0.00000000e+00,\n",
              "       0.00000000e+00, 0.00000000e+00, 0.00000000e+00, 0.00000000e+00,\n",
              "       0.00000000e+00, 0.00000000e+00, 1.00000000e+00, 0.00000000e+00,\n",
              "       0.00000000e+00, 0.00000000e+00, 0.00000000e+00, 0.00000000e+00,\n",
              "       0.00000000e+00, 0.00000000e+00, 0.00000000e+00, 0.00000000e+00,\n",
              "       0.00000000e+00, 0.00000000e+00, 0.00000000e+00, 0.00000000e+00,\n",
              "       0.00000000e+00, 0.00000000e+00, 0.00000000e+00, 0.00000000e+00,\n",
              "       0.00000000e+00, 0.00000000e+00, 3.10000000e+01, 8.00000000e+00,\n",
              "       2.00000000e+00, 1.00000000e+00, 0.00000000e+00, 0.00000000e+00,\n",
              "       0.00000000e+00, 0.00000000e+00, 0.00000000e+00, 0.00000000e+00,\n",
              "       0.00000000e+00, 0.00000000e+00, 0.00000000e+00, 0.00000000e+00,\n",
              "       0.00000000e+00, 0.00000000e+00, 1.00000000e+00, 0.00000000e+00,\n",
              "       0.00000000e+00, 0.00000000e+00, 0.00000000e+00, 0.00000000e+00,\n",
              "       0.00000000e+00, 1.00000000e+00, 0.00000000e+00, 0.00000000e+00,\n",
              "       0.00000000e+00])"
            ]
          },
          "execution_count": 47,
          "metadata": {},
          "output_type": "execute_result"
        }
      ],
      "source": [
        "uid, bid, rid, year = \"wSTuiTk-sKNdcFyprzZAjg\", \"B5XSoSG3SfvQGtKEGQ1tSQ\", \"ZKvDG2sBvHVdF5oBNUOpAQ\", 2016\n",
        "feat(uid, bid, rid, year)"
      ]
    },
    {
      "cell_type": "code",
      "execution_count": 48,
      "metadata": {
        "colab": {
          "base_uri": "https://localhost:8080/"
        },
        "id": "7apCWxRFbt0z",
        "outputId": "6ca72120-a0e7-4f32-9f26-9740b4aa4bf6"
      },
      "outputs": [
        {
          "name": "stdout",
          "output_type": "stream",
          "text": [
            "('wSTuiTk-sKNdcFyprzZAjg', 'B5XSoSG3SfvQGtKEGQ1tSQ', 'ZKvDG2sBvHVdF5oBNUOpAQ', 2016, 3.0)\n"
          ]
        }
      ],
      "source": [
        "review_id_list = df_reviews['review_id'].to_list()\n",
        "business_id_list = df_reviews['business_id'].to_list()\n",
        "user_id_list = df_reviews['user_id'].to_list()\n",
        "review_year_list = [((int)(a[:4])) for a in df_reviews['date'].to_list()]\n",
        "star_rating_list = df_reviews['stars'].to_list()\n",
        "\n",
        "feature_lookup_list = list(zip(user_id_list, business_id_list, review_id_list, review_year_list, star_rating_list))\n",
        "\n",
        "print(feature_lookup_list[0])"
      ]
    },
    {
      "cell_type": "code",
      "execution_count": 50,
      "metadata": {
        "id": "Lceze98mgFR0"
      },
      "outputs": [],
      "source": [
        "from tqdm.notebook import tqdm"
      ]
    },
    {
      "cell_type": "code",
      "execution_count": 51,
      "metadata": {
        "colab": {
          "base_uri": "https://localhost:8080/",
          "height": 85,
          "referenced_widgets": [
            "3b8a177aea7941ae83787aeffcd77ede",
            "61aa80ca9931420899e3fe3aacd28381",
            "2251872df90244bc93ee9ed82c4be268",
            "3debf805bf9e47e797d00e556f771a91",
            "0a4b698c2d4342109faa73c287fc31e0",
            "de8350552bf948c38542e6d812a6ed23",
            "1a7a30a1986449198c35aa9681e9c3cf",
            "610478423a3b4fec878928fa0107639f",
            "f38e01d39d6e46439120a56c8a433b3c",
            "375071b1541844208ac0eb7b5e4f3056",
            "a4ac89e4f52b45a1a2b8c918ccea2f0f"
          ]
        },
        "id": "NJMj7NJ1bt0z",
        "outputId": "708e77f2-50d8-4dee-82b1-dd30df33b1e6"
      },
      "outputs": [
        {
          "data": {
            "application/json": {
              "ascii": false,
              "bar_format": null,
              "colour": null,
              "elapsed": 0.021819353103637695,
              "initial": 0,
              "n": 0,
              "ncols": null,
              "nrows": null,
              "postfix": null,
              "prefix": "",
              "rate": null,
              "total": 348856,
              "unit": "it",
              "unit_divisor": 1000,
              "unit_scale": false
            },
            "application/vnd.jupyter.widget-view+json": {
              "model_id": "3a79c72f0ad3482a9961a43f4f8a0b4b",
              "version_major": 2,
              "version_minor": 0
            },
            "text/plain": [
              "  0%|          | 0/348856 [00:00<?, ?it/s]"
            ]
          },
          "metadata": {},
          "output_type": "display_data"
        },
        {
          "name": "stdout",
          "output_type": "stream",
          "text": [
            "(348856, 89)\n",
            "(348856,)\n"
          ]
        }
      ],
      "source": [
        "X = []\n",
        "Y = []\n",
        "\n",
        "for uid, bid, rid, year, label in tqdm(feature_lookup_list):\n",
        "\n",
        "  X.append(feat(uid, bid, rid, year))\n",
        "  Y.append(label)\n",
        "\n",
        "X = np.array(X)\n",
        "Y = np.array(Y)\n",
        "\n",
        "print(X.shape)\n",
        "print(Y.shape)"
      ]
    },
    {
      "cell_type": "code",
      "execution_count": 52,
      "metadata": {
        "colab": {
          "base_uri": "https://localhost:8080/"
        },
        "id": "9-ja6YTEvKv1",
        "outputId": "c81a8e16-5733-4fac-8e8f-4dd42c7748c1"
      },
      "outputs": [
        {
          "name": "stdout",
          "output_type": "stream",
          "text": [
            "0.0\n",
            "0.0\n",
            "2\n"
          ]
        }
      ],
      "source": [
        "for j in range(0, X.shape[1]):\n",
        "  if (X[:,j].max() == X[:,j].min()):\n",
        "    print(X[:,j].max())\n",
        "    print(X[:,j].min())\n",
        "    print(j)\n",
        "    continue\n",
        "  X[:,j] = (X[:,j]-X[:,j].min())/(X[:,j].max()-X[:,j].min())"
      ]
    },
    {
      "cell_type": "code",
      "execution_count": 53,
      "metadata": {
        "id": "5VXw9LWJqQcM"
      },
      "outputs": [],
      "source": [
        "X_train = X[:(int)(len(X)*(0.8))]\n",
        "X_val = X[(int)(len(X)*(0.8)):(int)(len(X)*(0.9))]\n",
        "X_test = X[(int)(len(X)*(0.9)):]\n",
        "\n",
        "Y_train = Y[:int(len(Y)*(0.8))]\n",
        "Y_val = Y[(int)(len(X)*(0.8)):(int)(len(X)*(0.9))]\n",
        "Y_test = Y[int(len(Y)*(0.9)):]"
      ]
    },
    {
      "cell_type": "code",
      "execution_count": 54,
      "metadata": {
        "colab": {
          "base_uri": "https://localhost:8080/"
        },
        "id": "2-OOPGiMrwMW",
        "outputId": "230e55c8-b223-48d4-e11b-d85a723f4397"
      },
      "outputs": [
        {
          "name": "stdout",
          "output_type": "stream",
          "text": [
            "(279084, 89)\n",
            "(34886, 89)\n",
            "(279084,)\n",
            "(34886,)\n"
          ]
        }
      ],
      "source": [
        "print(X_train.shape)\n",
        "print(X_test.shape)\n",
        "print(Y_train.shape)\n",
        "print(Y_test.shape)"
      ]
    },
    {
      "cell_type": "code",
      "execution_count": 55,
      "metadata": {
        "id": "_MqVxu-3rJG7"
      },
      "outputs": [],
      "source": [
        "def mean_square_error(Y_test, predictions):\n",
        "  return np.mean((Y_test-predictions)**2)"
      ]
    },
    {
      "cell_type": "code",
      "execution_count": 56,
      "metadata": {
        "id": "79hCDX-hejY_"
      },
      "outputs": [],
      "source": [
        "class Baseline:\n",
        "\n",
        "  def __init__(self):\n",
        "    self.mean_rating = None\n",
        "    \n",
        "  def train(self, X_train, Y_train):\n",
        "    self.mean_rating = np.mean(Y_train)\n",
        "\n",
        "  def predict(self, X_test):\n",
        "\n",
        "    number_of_test_samples = X_test.shape[0]\n",
        "    predictions = np.array([self.mean_rating]*number_of_test_samples)\n",
        "    return predictions\n"
      ]
    },
    {
      "cell_type": "code",
      "execution_count": 57,
      "metadata": {
        "colab": {
          "base_uri": "https://localhost:8080/"
        },
        "id": "NtE-fn8Aq7i2",
        "outputId": "380c76c9-3f0d-407d-aba7-e8a3945073a4"
      },
      "outputs": [
        {
          "name": "stdout",
          "output_type": "stream",
          "text": [
            "2.0039307545393172\n"
          ]
        }
      ],
      "source": [
        "model = Baseline()\n",
        "model.train(X_train, Y_train)\n",
        "predictions = model.predict(X_test)\n",
        "print(mean_square_error(Y_test, predictions))"
      ]
    },
    {
      "cell_type": "code",
      "execution_count": 58,
      "metadata": {
        "id": "BMm1has8rR7r"
      },
      "outputs": [],
      "source": [
        "from sklearn import linear_model\n",
        "\n",
        "class linReg:\n",
        "\n",
        "  def __init__(self, model_type = 'linear'):\n",
        "    self.model = None\n",
        "    if (model_type == 'linear'):\n",
        "      self.model = linear_model.LinearRegression()\n",
        "    else:\n",
        "      self.model = linear_model.Ridge()\n",
        "    \n",
        "  def train(self, X_train, Y_train):\n",
        "    self.model.fit(X_train, Y_train)\n",
        "\n",
        "  def predict(self, X_test):\n",
        "    predictions = self.model.predict(X_test)\n",
        "    return predictions"
      ]
    },
    {
      "cell_type": "code",
      "execution_count": 59,
      "metadata": {
        "colab": {
          "base_uri": "https://localhost:8080/"
        },
        "id": "Bkub6IggrY-_",
        "outputId": "817385ad-c2f9-4485-c5d7-466715a87b34"
      },
      "outputs": [
        {
          "name": "stdout",
          "output_type": "stream",
          "text": [
            "1.236041702558585\n"
          ]
        }
      ],
      "source": [
        "model = linReg('ridge')\n",
        "model.train(X_train, Y_train)\n",
        "predictions = model.predict(X_test)\n",
        "print(mean_square_error(Y_test, predictions))"
      ]
    },
    {
      "cell_type": "code",
      "execution_count": 60,
      "metadata": {
        "colab": {
          "base_uri": "https://localhost:8080/"
        },
        "id": "CkoDJcyDriv6",
        "outputId": "95d26158-2516-47e1-c82b-fcd64a56a614"
      },
      "outputs": [
        {
          "name": "stdout",
          "output_type": "stream",
          "text": [
            "1.2360401095951983\n"
          ]
        }
      ],
      "source": [
        "model = linReg('linear')\n",
        "model.train(X_train, Y_train)\n",
        "predictions = model.predict(X_test)\n",
        "print(mean_square_error(Y_test, predictions))\n"
      ]
    },
    {
      "cell_type": "code",
      "execution_count": 61,
      "metadata": {
        "colab": {
          "base_uri": "https://localhost:8080/"
        },
        "id": "q3kKaN2nucKL",
        "outputId": "289fc203-e1d2-4f91-d824-a15450e9cfea"
      },
      "outputs": [
        {
          "data": {
            "text/plain": [
              "array([ 2.04351886e-01,  1.19850259e+00, -3.72222521e+10,  3.41827248e+01,\n",
              "        2.37971938e+00,  4.22693436e+00, -9.22009224e-03,  1.34930214e+11,\n",
              "        1.71312856e+10,  1.05152729e+11, -4.04192550e+10, -1.24028867e+10,\n",
              "        6.53937844e+09, -4.61589440e+09,  2.92287858e+10,  4.44007648e+09,\n",
              "       -5.86809133e+08, -2.31613491e+11,  2.61510097e+10,  5.88520307e+10,\n",
              "        2.53374543e+10, -1.25390596e+10,  1.00399964e+10, -1.16536408e+10,\n",
              "        2.19362902e+09,  7.06712942e+10,  2.79572737e+10, -9.30219526e+09,\n",
              "       -5.03034336e+09, -3.24170074e+10,  4.62613116e+10, -6.18255558e+09,\n",
              "       -1.21403647e+10,  1.97238004e+10, -1.34930214e+11, -1.71312856e+10,\n",
              "       -1.05152729e+11,  4.04192550e+10,  1.24028867e+10, -6.53937844e+09,\n",
              "        4.61589440e+09, -2.92287858e+10, -4.44007648e+09,  5.86809133e+08,\n",
              "        2.31613491e+11, -2.61510097e+10, -5.88520307e+10, -2.53374543e+10,\n",
              "        1.25390596e+10, -1.00399964e+10,  1.16536408e+10, -2.19362902e+09,\n",
              "       -7.06712942e+10, -2.79572737e+10,  9.30219526e+09,  5.03034336e+09,\n",
              "        3.24170074e+10, -4.62613116e+10,  6.18255558e+09,  1.21403647e+10,\n",
              "       -1.97238004e+10, -6.95610046e-01, -8.40747833e-01, -1.05400991e+00,\n",
              "        1.40987778e+00,  3.03833008e-01,  2.66342163e-02,  5.97730512e+09,\n",
              "        5.97730511e+09,  5.97730511e+09,  5.97730511e+09,  5.97730511e+09,\n",
              "        5.97730511e+09,  5.97730511e+09,  5.97730510e+09,  5.97730510e+09,\n",
              "        5.97730510e+09,  5.97730510e+09,  5.97730510e+09,  5.97730509e+09,\n",
              "        5.97730509e+09,  5.97730509e+09,  5.97730509e+09,  5.97730509e+09,\n",
              "        5.97730509e+09,  1.24902455e+12,  1.24902455e+12,  1.24902455e+12,\n",
              "        1.24902455e+12])"
            ]
          },
          "execution_count": 61,
          "metadata": {},
          "output_type": "execute_result"
        }
      ],
      "source": [
        "# Some weights are too high\n",
        "model.model.coef_"
      ]
    },
    {
      "cell_type": "code",
      "execution_count": 62,
      "metadata": {
        "id": "UqBZv_hKsTRX"
      },
      "outputs": [],
      "source": [
        "# Decision Trees, Random Forest, SVR\n",
        "# Collaborative Filtering (Jaccard, Cosine, Pearson)\n",
        "# Latent factor (bias only and complete)\n",
        "# ANN model (sklearn)\n",
        "# Factorization Machines\n",
        "# XG Boost\n",
        "# Scatter plots with target variable\n",
        "# correlation matrix\n",
        "# PCA \n",
        "# Feature importance using SHAP"
      ]
    },
    {
      "cell_type": "code",
      "execution_count": 63,
      "metadata": {},
      "outputs": [
        {
          "name": "stdout",
          "output_type": "stream",
          "text": [
            "2.4928873489524612\n"
          ]
        }
      ],
      "source": [
        "from sklearn.tree import DecisionTreeRegressor\n",
        "model = DecisionTreeRegressor(random_state=0)\n",
        "model.fit(X_train, Y_train)\n",
        "predictions = model.predict(X_test)\n",
        "print(mean_square_error(Y_test, predictions))"
      ]
    },
    {
      "cell_type": "code",
      "execution_count": 64,
      "metadata": {},
      "outputs": [
        {
          "name": "stdout",
          "output_type": "stream",
          "text": [
            "1.4421443399450729\n"
          ]
        }
      ],
      "source": [
        "from sklearn.ensemble import RandomForestRegressor\n",
        "model = RandomForestRegressor(max_depth=2, random_state=0)\n",
        "model.fit(X_train, Y_train)\n",
        "predictions = model.predict(X_test)\n",
        "print(mean_square_error(Y_test, predictions))"
      ]
    },
    {
      "cell_type": "code",
      "execution_count": 70,
      "metadata": {},
      "outputs": [],
      "source": [
        "from sklearn.svm import SVR\n",
        "model = SVR(C=1.0, epsilon=0.2)\n",
        "model.fit(X_train, Y_train)\n",
        "predictions = model.predict(X_test)\n",
        "print(mean_square_error(Y_test, predictions))"
      ]
    },
    {
      "cell_type": "code",
      "execution_count": 65,
      "metadata": {},
      "outputs": [
        {
          "name": "stdout",
          "output_type": "stream",
          "text": [
            "1.2500979820243705\n"
          ]
        }
      ],
      "source": [
        "from sklearn.neural_network import MLPRegressor\n",
        "model = MLPRegressor(random_state=1, max_iter=500)\n",
        "model.fit(X_train, Y_train)\n",
        "predictions = model.predict(X_test)\n",
        "print(mean_square_error(Y_test, predictions))"
      ]
    },
    {
      "cell_type": "code",
      "execution_count": 69,
      "metadata": {},
      "outputs": [
        {
          "name": "stdout",
          "output_type": "stream",
          "text": [
            "[20:02:26] WARNING: ../src/objective/regression_obj.cu:213: reg:linear is now deprecated in favor of reg:squarederror.\n",
            "1.1962803713153325\n"
          ]
        }
      ],
      "source": [
        "import xgboost as xg\n",
        "model = xg.XGBRegressor(objective ='reg:linear', n_estimators = 10, seed = 123)\n",
        "model.fit(X_train, Y_train)\n",
        "predictions = model.predict(X_test)\n",
        "print(mean_square_error(Y_test, predictions))"
      ]
    },
    {
      "cell_type": "code",
      "execution_count": null,
      "metadata": {},
      "outputs": [],
      "source": []
    }
  ],
  "metadata": {
    "colab": {
      "include_colab_link": true,
      "provenance": []
    },
    "kernelspec": {
      "display_name": "Python 3.8.10 64-bit",
      "language": "python",
      "name": "python3"
    },
    "language_info": {
      "codemirror_mode": {
        "name": "ipython",
        "version": 3
      },
      "file_extension": ".py",
      "mimetype": "text/x-python",
      "name": "python",
      "nbconvert_exporter": "python",
      "pygments_lexer": "ipython3",
      "version": "3.8.10"
    },
    "orig_nbformat": 4,
    "vscode": {
      "interpreter": {
        "hash": "916dbcbb3f70747c44a77c7bcd40155683ae19c65e1c03b4aa3499c5328201f1"
      }
    },
    "widgets": {
      "application/vnd.jupyter.widget-state+json": {
        "0a4b698c2d4342109faa73c287fc31e0": {
          "model_module": "@jupyter-widgets/base",
          "model_module_version": "1.2.0",
          "model_name": "LayoutModel",
          "state": {
            "_model_module": "@jupyter-widgets/base",
            "_model_module_version": "1.2.0",
            "_model_name": "LayoutModel",
            "_view_count": null,
            "_view_module": "@jupyter-widgets/base",
            "_view_module_version": "1.2.0",
            "_view_name": "LayoutView",
            "align_content": null,
            "align_items": null,
            "align_self": null,
            "border": null,
            "bottom": null,
            "display": null,
            "flex": null,
            "flex_flow": null,
            "grid_area": null,
            "grid_auto_columns": null,
            "grid_auto_flow": null,
            "grid_auto_rows": null,
            "grid_column": null,
            "grid_gap": null,
            "grid_row": null,
            "grid_template_areas": null,
            "grid_template_columns": null,
            "grid_template_rows": null,
            "height": null,
            "justify_content": null,
            "justify_items": null,
            "left": null,
            "margin": null,
            "max_height": null,
            "max_width": null,
            "min_height": null,
            "min_width": null,
            "object_fit": null,
            "object_position": null,
            "order": null,
            "overflow": null,
            "overflow_x": null,
            "overflow_y": null,
            "padding": null,
            "right": null,
            "top": null,
            "visibility": null,
            "width": null
          }
        },
        "1a7a30a1986449198c35aa9681e9c3cf": {
          "model_module": "@jupyter-widgets/controls",
          "model_module_version": "1.5.0",
          "model_name": "DescriptionStyleModel",
          "state": {
            "_model_module": "@jupyter-widgets/controls",
            "_model_module_version": "1.5.0",
            "_model_name": "DescriptionStyleModel",
            "_view_count": null,
            "_view_module": "@jupyter-widgets/base",
            "_view_module_version": "1.2.0",
            "_view_name": "StyleView",
            "description_width": ""
          }
        },
        "2251872df90244bc93ee9ed82c4be268": {
          "model_module": "@jupyter-widgets/controls",
          "model_module_version": "1.5.0",
          "model_name": "FloatProgressModel",
          "state": {
            "_dom_classes": [],
            "_model_module": "@jupyter-widgets/controls",
            "_model_module_version": "1.5.0",
            "_model_name": "FloatProgressModel",
            "_view_count": null,
            "_view_module": "@jupyter-widgets/controls",
            "_view_module_version": "1.5.0",
            "_view_name": "ProgressView",
            "bar_style": "success",
            "description": "",
            "description_tooltip": null,
            "layout": "IPY_MODEL_610478423a3b4fec878928fa0107639f",
            "max": 348856,
            "min": 0,
            "orientation": "horizontal",
            "style": "IPY_MODEL_f38e01d39d6e46439120a56c8a433b3c",
            "value": 348856
          }
        },
        "375071b1541844208ac0eb7b5e4f3056": {
          "model_module": "@jupyter-widgets/base",
          "model_module_version": "1.2.0",
          "model_name": "LayoutModel",
          "state": {
            "_model_module": "@jupyter-widgets/base",
            "_model_module_version": "1.2.0",
            "_model_name": "LayoutModel",
            "_view_count": null,
            "_view_module": "@jupyter-widgets/base",
            "_view_module_version": "1.2.0",
            "_view_name": "LayoutView",
            "align_content": null,
            "align_items": null,
            "align_self": null,
            "border": null,
            "bottom": null,
            "display": null,
            "flex": null,
            "flex_flow": null,
            "grid_area": null,
            "grid_auto_columns": null,
            "grid_auto_flow": null,
            "grid_auto_rows": null,
            "grid_column": null,
            "grid_gap": null,
            "grid_row": null,
            "grid_template_areas": null,
            "grid_template_columns": null,
            "grid_template_rows": null,
            "height": null,
            "justify_content": null,
            "justify_items": null,
            "left": null,
            "margin": null,
            "max_height": null,
            "max_width": null,
            "min_height": null,
            "min_width": null,
            "object_fit": null,
            "object_position": null,
            "order": null,
            "overflow": null,
            "overflow_x": null,
            "overflow_y": null,
            "padding": null,
            "right": null,
            "top": null,
            "visibility": null,
            "width": null
          }
        },
        "3b8a177aea7941ae83787aeffcd77ede": {
          "model_module": "@jupyter-widgets/controls",
          "model_module_version": "1.5.0",
          "model_name": "HBoxModel",
          "state": {
            "_dom_classes": [],
            "_model_module": "@jupyter-widgets/controls",
            "_model_module_version": "1.5.0",
            "_model_name": "HBoxModel",
            "_view_count": null,
            "_view_module": "@jupyter-widgets/controls",
            "_view_module_version": "1.5.0",
            "_view_name": "HBoxView",
            "box_style": "",
            "children": [
              "IPY_MODEL_61aa80ca9931420899e3fe3aacd28381",
              "IPY_MODEL_2251872df90244bc93ee9ed82c4be268",
              "IPY_MODEL_3debf805bf9e47e797d00e556f771a91"
            ],
            "layout": "IPY_MODEL_0a4b698c2d4342109faa73c287fc31e0"
          }
        },
        "3debf805bf9e47e797d00e556f771a91": {
          "model_module": "@jupyter-widgets/controls",
          "model_module_version": "1.5.0",
          "model_name": "HTMLModel",
          "state": {
            "_dom_classes": [],
            "_model_module": "@jupyter-widgets/controls",
            "_model_module_version": "1.5.0",
            "_model_name": "HTMLModel",
            "_view_count": null,
            "_view_module": "@jupyter-widgets/controls",
            "_view_module_version": "1.5.0",
            "_view_name": "HTMLView",
            "description": "",
            "description_tooltip": null,
            "layout": "IPY_MODEL_375071b1541844208ac0eb7b5e4f3056",
            "placeholder": "​",
            "style": "IPY_MODEL_a4ac89e4f52b45a1a2b8c918ccea2f0f",
            "value": " 348856/348856 [00:12&lt;00:00, 27632.89it/s]"
          }
        },
        "610478423a3b4fec878928fa0107639f": {
          "model_module": "@jupyter-widgets/base",
          "model_module_version": "1.2.0",
          "model_name": "LayoutModel",
          "state": {
            "_model_module": "@jupyter-widgets/base",
            "_model_module_version": "1.2.0",
            "_model_name": "LayoutModel",
            "_view_count": null,
            "_view_module": "@jupyter-widgets/base",
            "_view_module_version": "1.2.0",
            "_view_name": "LayoutView",
            "align_content": null,
            "align_items": null,
            "align_self": null,
            "border": null,
            "bottom": null,
            "display": null,
            "flex": null,
            "flex_flow": null,
            "grid_area": null,
            "grid_auto_columns": null,
            "grid_auto_flow": null,
            "grid_auto_rows": null,
            "grid_column": null,
            "grid_gap": null,
            "grid_row": null,
            "grid_template_areas": null,
            "grid_template_columns": null,
            "grid_template_rows": null,
            "height": null,
            "justify_content": null,
            "justify_items": null,
            "left": null,
            "margin": null,
            "max_height": null,
            "max_width": null,
            "min_height": null,
            "min_width": null,
            "object_fit": null,
            "object_position": null,
            "order": null,
            "overflow": null,
            "overflow_x": null,
            "overflow_y": null,
            "padding": null,
            "right": null,
            "top": null,
            "visibility": null,
            "width": null
          }
        },
        "61aa80ca9931420899e3fe3aacd28381": {
          "model_module": "@jupyter-widgets/controls",
          "model_module_version": "1.5.0",
          "model_name": "HTMLModel",
          "state": {
            "_dom_classes": [],
            "_model_module": "@jupyter-widgets/controls",
            "_model_module_version": "1.5.0",
            "_model_name": "HTMLModel",
            "_view_count": null,
            "_view_module": "@jupyter-widgets/controls",
            "_view_module_version": "1.5.0",
            "_view_name": "HTMLView",
            "description": "",
            "description_tooltip": null,
            "layout": "IPY_MODEL_de8350552bf948c38542e6d812a6ed23",
            "placeholder": "​",
            "style": "IPY_MODEL_1a7a30a1986449198c35aa9681e9c3cf",
            "value": "100%"
          }
        },
        "a4ac89e4f52b45a1a2b8c918ccea2f0f": {
          "model_module": "@jupyter-widgets/controls",
          "model_module_version": "1.5.0",
          "model_name": "DescriptionStyleModel",
          "state": {
            "_model_module": "@jupyter-widgets/controls",
            "_model_module_version": "1.5.0",
            "_model_name": "DescriptionStyleModel",
            "_view_count": null,
            "_view_module": "@jupyter-widgets/base",
            "_view_module_version": "1.2.0",
            "_view_name": "StyleView",
            "description_width": ""
          }
        },
        "de8350552bf948c38542e6d812a6ed23": {
          "model_module": "@jupyter-widgets/base",
          "model_module_version": "1.2.0",
          "model_name": "LayoutModel",
          "state": {
            "_model_module": "@jupyter-widgets/base",
            "_model_module_version": "1.2.0",
            "_model_name": "LayoutModel",
            "_view_count": null,
            "_view_module": "@jupyter-widgets/base",
            "_view_module_version": "1.2.0",
            "_view_name": "LayoutView",
            "align_content": null,
            "align_items": null,
            "align_self": null,
            "border": null,
            "bottom": null,
            "display": null,
            "flex": null,
            "flex_flow": null,
            "grid_area": null,
            "grid_auto_columns": null,
            "grid_auto_flow": null,
            "grid_auto_rows": null,
            "grid_column": null,
            "grid_gap": null,
            "grid_row": null,
            "grid_template_areas": null,
            "grid_template_columns": null,
            "grid_template_rows": null,
            "height": null,
            "justify_content": null,
            "justify_items": null,
            "left": null,
            "margin": null,
            "max_height": null,
            "max_width": null,
            "min_height": null,
            "min_width": null,
            "object_fit": null,
            "object_position": null,
            "order": null,
            "overflow": null,
            "overflow_x": null,
            "overflow_y": null,
            "padding": null,
            "right": null,
            "top": null,
            "visibility": null,
            "width": null
          }
        },
        "f38e01d39d6e46439120a56c8a433b3c": {
          "model_module": "@jupyter-widgets/controls",
          "model_module_version": "1.5.0",
          "model_name": "ProgressStyleModel",
          "state": {
            "_model_module": "@jupyter-widgets/controls",
            "_model_module_version": "1.5.0",
            "_model_name": "ProgressStyleModel",
            "_view_count": null,
            "_view_module": "@jupyter-widgets/base",
            "_view_module_version": "1.2.0",
            "_view_name": "StyleView",
            "bar_color": null,
            "description_width": ""
          }
        }
      }
    }
  },
  "nbformat": 4,
  "nbformat_minor": 0
}
