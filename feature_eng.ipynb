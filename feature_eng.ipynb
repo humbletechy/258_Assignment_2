{
  "cells": [
    {
      "cell_type": "markdown",
      "metadata": {
        "id": "view-in-github",
        "colab_type": "text"
      },
      "source": [
        "<a href=\"https://colab.research.google.com/github/humbletechy/258_Assignment_2/blob/main/feature_eng.ipynb\" target=\"_parent\"><img src=\"https://colab.research.google.com/assets/colab-badge.svg\" alt=\"Open In Colab\"/></a>"
      ]
    },
    {
      "cell_type": "code",
      "source": [
        "from google.colab import drive\n",
        "drive.mount('/content/drive')"
      ],
      "metadata": {
        "colab": {
          "base_uri": "https://localhost:8080/"
        },
        "id": "K81tIG0obw29",
        "outputId": "3c596d3e-e7b2-474f-945c-cc5c5c83282c"
      },
      "execution_count": 1,
      "outputs": [
        {
          "output_type": "stream",
          "name": "stdout",
          "text": [
            "Mounted at /content/drive\n"
          ]
        }
      ]
    },
    {
      "cell_type": "code",
      "execution_count": 2,
      "metadata": {
        "id": "9Kx0_T31bt0o"
      },
      "outputs": [],
      "source": [
        "import numpy as np\n",
        "import pandas as pd\n",
        "from collections import defaultdict"
      ]
    },
    {
      "cell_type": "code",
      "execution_count": 3,
      "metadata": {
        "id": "zeYnfaWTbt0q"
      },
      "outputs": [],
      "source": [
        "df_business = pd.read_csv('/content/drive/MyDrive/CSE258/CA_businesses.csv')  \n",
        "df_reviews = pd.read_csv('/content/drive/MyDrive/CSE258/CA_reviews.csv') \n",
        "df_tipdata = pd.read_csv('/content/drive/MyDrive/CSE258/CA_tipdata.csv') \n",
        "df_userdata = pd.read_csv('/content/drive/MyDrive/CSE258/CA_userdata.csv') "
      ]
    },
    {
      "cell_type": "code",
      "source": [
        "business_review = defaultdict(int)\n",
        "for row in df_business.iterrows():\n",
        "  business_review[row[1]['business_id']] = row[1]['review_count']"
      ],
      "metadata": {
        "id": "P1tPnCGTjIXF"
      },
      "execution_count": 71,
      "outputs": []
    },
    {
      "cell_type": "code",
      "execution_count": 48,
      "metadata": {
        "id": "1lMT2sFvbt0s"
      },
      "outputs": [],
      "source": [
        "def get_review_count_business(bid):\n",
        "    return [business_review[bid]]"
      ]
    },
    {
      "cell_type": "code",
      "source": [
        "user_review = defaultdict(int)\n",
        "for row in df_userdata.iterrows():\n",
        "  user_review[row[1]['user_id']] = row[1]['review_count']"
      ],
      "metadata": {
        "id": "J2B_3dTFj57z"
      },
      "execution_count": 51,
      "outputs": []
    },
    {
      "cell_type": "code",
      "execution_count": 52,
      "metadata": {
        "id": "H4j0BsmGbt0s"
      },
      "outputs": [],
      "source": [
        "def get_review_count_user(uid):\n",
        "    return [user_review[uid]]"
      ]
    },
    {
      "cell_type": "code",
      "source": [
        "# from typing import List\n",
        "user_elite = defaultdict(list)\n",
        "for row in df_userdata.iterrows():\n",
        "  val = list(row[1]['elite'].split(\",\"))\n",
        "  if len(val) > 0:\n",
        "     user_elite[row[1]['user_id']] = val"
      ],
      "metadata": {
        "id": "Tb5x_-BykgQZ"
      },
      "execution_count": 145,
      "outputs": []
    },
    {
      "cell_type": "code",
      "source": [
        "user_elite[\"wSTuiTk-sKNdcFyprzZAjg\"]"
      ],
      "metadata": {
        "colab": {
          "base_uri": "https://localhost:8080/"
        },
        "id": "1BlXfrGXlXyy",
        "outputId": "9439285c-e301-4384-c98e-a63056fcb889"
      },
      "execution_count": 56,
      "outputs": [
        {
          "output_type": "execute_result",
          "data": {
            "text/plain": [
              "[]"
            ]
          },
          "metadata": {},
          "execution_count": 56
        }
      ]
    },
    {
      "cell_type": "code",
      "execution_count": 147,
      "metadata": {
        "id": "_P99ReFjbt0s"
      },
      "outputs": [],
      "source": [
        "def get_elite_in_year(uid, year):\n",
        "    val = user_elite[uid]\n",
        "    if len(val) > 0:\n",
        "      return [int(year in val)]\n",
        "    else:\n",
        "      return [0]"
      ]
    },
    {
      "cell_type": "code",
      "source": [
        "user_yelp = defaultdict(int)\n",
        "for row in df_userdata.iterrows():\n",
        "  user_yelp[row[1]['user_id']] = int(row[1]['yelping_since'][0][:4])"
      ],
      "metadata": {
        "id": "_MbMimpZmCX7"
      },
      "execution_count": 63,
      "outputs": []
    },
    {
      "cell_type": "code",
      "execution_count": 64,
      "metadata": {
        "id": "TLXbrJb6bt0t"
      },
      "outputs": [],
      "source": [
        "def get_yelping_since(uid, curr_year):\n",
        "    year = user_yelp[uid]\n",
        "    return [curr_year - year]"
      ]
    },
    {
      "cell_type": "code",
      "source": [
        "business_stars = defaultdict(int)\n",
        "for row in df_business.iterrows():\n",
        "  business_stars[row[1]['business_id']] = int(row[1]['stars'])"
      ],
      "metadata": {
        "id": "195ZwL4nmc_J"
      },
      "execution_count": 70,
      "outputs": []
    },
    {
      "cell_type": "code",
      "execution_count": 72,
      "metadata": {
        "id": "cWqA8wGcbt0t"
      },
      "outputs": [],
      "source": [
        "def get_business_stars(bid):\n",
        "    return [business_stars[bid]]\n",
        "    "
      ]
    },
    {
      "cell_type": "code",
      "source": [
        "user_stars = defaultdict(int)\n",
        "for row in df_userdata.iterrows():\n",
        "  user_stars[row[1]['user_id']] = float(row[1]['average_stars'])"
      ],
      "metadata": {
        "id": "Ls2m99-lmi1n"
      },
      "execution_count": 67,
      "outputs": []
    },
    {
      "cell_type": "code",
      "execution_count": 68,
      "metadata": {
        "id": "S0lsx2v9bt0t"
      },
      "outputs": [],
      "source": [
        "def get_average_stars(uid):\n",
        "    return [user_stars[uid]]"
      ]
    },
    {
      "cell_type": "code",
      "source": [
        "user_elite_years = defaultdict(int)\n",
        "for row in df_userdata.iterrows():\n",
        "  user_elite_years[row[1]['user_id']] = len(list(row[1]['elite'].split(\",\")))"
      ],
      "metadata": {
        "id": "4s0jXNKZnEIq"
      },
      "execution_count": 75,
      "outputs": []
    },
    {
      "cell_type": "code",
      "execution_count": 76,
      "metadata": {
        "id": "Pu-foHu8bt0u"
      },
      "outputs": [],
      "source": [
        "def get_num_elite_years(uid):\n",
        "    return [user_elite_years[uid]]"
      ]
    },
    {
      "cell_type": "code",
      "execution_count": 11,
      "metadata": {
        "id": "sn6AJGonbt0u"
      },
      "outputs": [],
      "source": [
        "def isNaN(num):\n",
        "    return num != num"
      ]
    },
    {
      "cell_type": "code",
      "execution_count": 79,
      "metadata": {
        "id": "pN_1KPedbt0u"
      },
      "outputs": [],
      "source": [
        "business_to_avgrating = defaultdict(list)\n",
        "for row in df_business_updated.iterrows():\n",
        "  bid = row[1]['business_id']\n",
        "  ohe_values = (df_business_updated.loc[df_business_updated['business_id'] == bid])[['Restaurantsavg_rating', 'Shoppingavg_rating',\n",
        "       'Foodavg_rating', 'Home Servicesavg_rating',\n",
        "       'Health & Medicalavg_rating', 'Event Planning & Servicesavg_rating',\n",
        "       'Local Servicesavg_rating', 'Beauty & Spasavg_rating',\n",
        "       'Active Lifeavg_rating', 'Automotiveavg_rating', 'Nightlifeavg_rating',\n",
        "       'Hotels & Travelavg_rating', 'Barsavg_rating',\n",
        "       'Arts & Entertainmentavg_rating', 'Professional Servicesavg_rating',\n",
        "       'Fashionavg_rating', 'Doctorsavg_rating', 'Home & Gardenavg_rating',\n",
        "       'American (New)avg_rating', 'Mexicanavg_rating',\n",
        "       'Coffee & Teaavg_rating', 'Hair Salonsavg_rating',\n",
        "       'Sandwichesavg_rating', 'Breakfast & Brunchavg_rating',\n",
        "       'Real Estateavg_rating', 'Auto Repairavg_rating',\n",
        "       'Fitness & Instructionavg_rating']]\n",
        "  business_to_avgrating[bid] = list(ohe_values.iloc[0])"
      ]
    },
    {
      "cell_type": "code",
      "source": [
        "def get_avg_category_ratings(business_id):\n",
        "  return business_to_avgrating[business_id]"
      ],
      "metadata": {
        "id": "M2-p-JveoRc3"
      },
      "execution_count": 80,
      "outputs": []
    },
    {
      "cell_type": "code",
      "source": [
        "business_to_categ = defaultdict(list)\n",
        "for row in df_business_updated.iterrows():\n",
        "  bid = row[1]['business_id']\n",
        "  ohe_values = (df_business_updated.loc[df_business_updated['business_id'] == bid])[['Restaurants', 'Shopping', 'Food',\n",
        "       'Home Services', 'Health & Medical', 'Event Planning & Services',\n",
        "       'Local Services', 'Beauty & Spas', 'Active Life', 'Automotive',\n",
        "       'Nightlife', 'Hotels & Travel', 'Bars', 'Arts & Entertainment',\n",
        "       'Professional Services', 'Fashion', 'Doctors', 'Home & Garden',\n",
        "       'American (New)', 'Mexican', 'Coffee & Tea', 'Hair Salons',\n",
        "       'Sandwiches', 'Breakfast & Brunch', 'Real Estate', 'Auto Repair',\n",
        "       'Fitness & Instruction']]\n",
        "  business_to_categ[bid] = list(ohe_values.iloc[0])"
      ],
      "metadata": {
        "id": "JsCucO6DoSqi"
      },
      "execution_count": 81,
      "outputs": []
    },
    {
      "cell_type": "code",
      "execution_count": 82,
      "metadata": {
        "id": "Ffz0J2WGbt0v"
      },
      "outputs": [],
      "source": [
        "def get_category(business_id):\n",
        "  return business_to_categ[business_id]"
      ]
    },
    {
      "cell_type": "code",
      "execution_count": 14,
      "metadata": {
        "id": "hU77kduYbt0v"
      },
      "outputs": [],
      "source": [
        "def preprocess_business():\n",
        "    categories = ['Restaurants', 'Shopping', 'Food', 'Home Services',\n",
        "                  'Health & Medical', 'Event Planning & Services',\n",
        "                  'Local Services', 'Beauty & Spas', 'Active Life', \n",
        "                  'Automotive', 'Nightlife', 'Hotels & Travel', 'Bars', \n",
        "                  'Arts & Entertainment', 'Professional Services', \n",
        "                  'Fashion', 'Doctors', 'Home & Garden', 'American (New)', \n",
        "                  'Mexican', 'Coffee & Tea', 'Hair Salons', 'Sandwiches', \n",
        "                  'Breakfast & Brunch', 'Real Estate', 'Auto Repair', 'Fitness & Instruction']\n",
        "\n",
        "    avg_category_rating = defaultdict(int)\n",
        "    all_categories = defaultdict(int)\n",
        "    num_category_reviews = defaultdict(int)\n",
        "    df_new = df_business[['categories','stars', 'review_count']]\n",
        "\n",
        "    \n",
        "    df_business_updated = df_business.copy()\n",
        "    \n",
        "    for categ in categories:\n",
        "        df_business_updated[categ] = 0\n",
        "\n",
        "    for idx, row in df_business_updated.iterrows():\n",
        "        # print(row)\n",
        "        ll = row['categories']\n",
        "        ll = str(ll)\n",
        "        if ll and ll!='nan':\n",
        "            categs = ll.split(',')\n",
        "            for categ in categs:\n",
        "                categ = categ.strip()\n",
        "                if categ in categories:\n",
        "                    df_business_updated.at[idx, categ] = 1\n",
        "\n",
        "    for categ in categories:\n",
        "        df_business_updated[categ+'avg_rating'] = 0.00\n",
        "    \n",
        "    for idx, row in df_new.iterrows():\n",
        "        ll = row['categories']\n",
        "        ll = str(ll)\n",
        "        if ll and ll!='nan':\n",
        "            categs = ll.split(',')\n",
        "            for categ in categs:\n",
        "                categ = categ.strip()\n",
        "                all_categories[categ]+=1\n",
        "                avg_category_rating[categ] += row['stars']\n",
        "                num_category_reviews[categ] += row['review_count']\n",
        "\n",
        "    for key, value in avg_category_rating.items():\n",
        "        avg_category_rating[key] /= all_categories[key]\n",
        "\n",
        "    for idx, row in df_business_updated.iterrows():\n",
        "        for categ in categories:\n",
        "            if df_business_updated.at[idx, categ] == 1:\n",
        "                df_business_updated.at[idx, categ+'avg_rating'] = avg_category_rating[categ]\n",
        "    \n",
        "    return df_business_updated\n",
        "\n",
        "    "
      ]
    },
    {
      "cell_type": "code",
      "execution_count": 90,
      "metadata": {
        "id": "3J9KvHsDbt0w"
      },
      "outputs": [],
      "source": [
        "def preprocess_user_data():\n",
        "\n",
        "    user_id_to_fan = {}\n",
        "    user_id_to_useful = {}\n",
        "    user_id_to_funny = {}\n",
        "    user_id_to_cool = {}\n",
        "    user_id_to_num_friends = {}\n",
        "    df_userdata_friends_rating = {}\n",
        "    user_id_to_rating = {}\n",
        "\n",
        "    df_userdata['elite'] = df_userdata['elite'].fillna(\"\")\n",
        "\n",
        "    df_userdata_friends = df_userdata['friends'].to_list()\n",
        "    df_userdata_rating = df_userdata['average_stars'].to_list()\n",
        "    df_userdata_user_ids = df_userdata['user_id'].to_list()\n",
        "    df_userdata_fans = df_userdata['fans'].to_list()\n",
        "\n",
        "    for i in range(0, len(df_userdata_user_ids)):\n",
        "        user_id_to_fan[df_userdata_user_ids[i]] = [df_userdata_fans[i]]\n",
        "\n",
        "    df_userdata_useful = df_userdata['useful'].to_list()\n",
        "\n",
        "    for i in range(0, len(df_userdata_user_ids)):\n",
        "        user_id_to_useful[df_userdata_user_ids[i]] = [df_userdata_useful[i]]\n",
        "\n",
        "    df_userdata_funny = df_userdata['funny'].to_list()\n",
        "\n",
        "    for i in range(0, len(df_userdata_user_ids)):\n",
        "        user_id_to_funny[df_userdata_user_ids[i]] = [df_userdata_funny[i]]\n",
        "\n",
        "    df_userdata_cool = df_userdata['cool'].to_list()\n",
        "\n",
        "    for i in range(0, len(df_userdata_user_ids)):\n",
        "        user_id_to_cool[df_userdata_user_ids[i]] = [df_userdata_cool[i]]\n",
        "    \n",
        "    df_userdata_friends = df_userdata['friends'].to_list()\n",
        "\n",
        "    for i in range(0, len(df_userdata_user_ids)):\n",
        "        user_id_to_num_friends[df_userdata_user_ids[i]] = [len(df_userdata_friends[i].split(\", \"))]\n",
        "    \n",
        "    for i in range(0, len(df_userdata_user_ids)):\n",
        "        user_id_to_rating[df_userdata_user_ids[i]] = df_userdata_rating[i]\n",
        "\n",
        "    for i in range(0, len(df_userdata_user_ids)):\n",
        "        friend_list = df_userdata_friends[i].split(\", \")\n",
        "        total_stars = 0\n",
        "        count = 0\n",
        "\n",
        "        for friend in friend_list:\n",
        "            if friend in user_id_to_rating.keys():\n",
        "                total_stars += user_id_to_rating[friend]\n",
        "                count += 1\n",
        "\n",
        "        if (count != 0):\n",
        "            df_userdata_friends_rating[df_userdata_user_ids[i]] = [total_stars/count]\n",
        "        else:\n",
        "            df_userdata_friends_rating[df_userdata_user_ids[i]] = [0]\n",
        "\n",
        "\n",
        "    return user_id_to_fan, user_id_to_useful,\\\n",
        "           user_id_to_funny, user_id_to_cool, \\\n",
        "           user_id_to_num_friends, \\\n",
        "           df_userdata_friends_rating \n",
        "\n",
        "\n"
      ]
    },
    {
      "cell_type": "code",
      "execution_count": 91,
      "metadata": {
        "id": "GZrQ50WTbt0w"
      },
      "outputs": [],
      "source": [
        "def number_of_fans_lookup(id):\n",
        "    return user_id_to_fan.get(id, [0])"
      ]
    },
    {
      "cell_type": "code",
      "execution_count": 92,
      "metadata": {
        "id": "-9DNoxM9bt0x"
      },
      "outputs": [],
      "source": [
        "def number_of_useful_lookup(id):\n",
        "    return user_id_to_useful.get(id, [0])"
      ]
    },
    {
      "cell_type": "code",
      "execution_count": 93,
      "metadata": {
        "id": "sRe1JKaAbt0x"
      },
      "outputs": [],
      "source": [
        "def number_of_funny_lookup(id):\n",
        "    return user_id_to_funny.get(id, [0])"
      ]
    },
    {
      "cell_type": "code",
      "execution_count": 94,
      "metadata": {
        "id": "tCpPY-Robt0x"
      },
      "outputs": [],
      "source": [
        "def number_of_cool_lookup(id):\n",
        "    return user_id_to_cool.get(id, [0])"
      ]
    },
    {
      "cell_type": "code",
      "execution_count": 95,
      "metadata": {
        "id": "mIfowaR7bt0x"
      },
      "outputs": [],
      "source": [
        "def number_of_friends_lookup(id):\n",
        "    return user_id_to_num_friends.get(id, [0])"
      ]
    },
    {
      "cell_type": "code",
      "execution_count": 96,
      "metadata": {
        "id": "8QK9HsW4bt0x"
      },
      "outputs": [],
      "source": [
        "def friends_rating_lookup(id):\n",
        "    return df_userdata_friends_rating.get(id, [0])"
      ]
    },
    {
      "cell_type": "code",
      "execution_count": 22,
      "metadata": {
        "id": "BY5_UPmbbt0y"
      },
      "outputs": [],
      "source": [
        "def preprocess_reviews():\n",
        "    review_timestamps = df_reviews['date'].tolist()\n",
        "    review_id = df_reviews['review_id'].to_list()\n",
        "    review_years = [((int)(a[:4])) for a in review_timestamps]\n",
        "    review_year_vector = {}\n",
        "\n",
        "    for i in range(0, len(review_years)):\n",
        "        one_hot_vector = [0]*18\n",
        "        one_hot_vector[review_years[i]-2005] = 1\n",
        "        review_year_vector[review_id[i]] = one_hot_vector\n",
        "\n",
        "    review_months = [((int)(a[5:7])) for a in review_timestamps]\n",
        "    review_month_vector = {}\n",
        "\n",
        "    for i in range(0, len(review_months)):\n",
        "        one_hot_vector = [0]*4\n",
        "        one_hot_vector[(int)((review_months[i]-1)/3)] = 1\n",
        "        review_month_vector[review_id[i]] = one_hot_vector\n",
        "\n",
        "    return review_year_vector, review_month_vector"
      ]
    },
    {
      "cell_type": "code",
      "execution_count": 23,
      "metadata": {
        "id": "io9RUyOCbt0y"
      },
      "outputs": [],
      "source": [
        "def year_feature_lookup(id):\n",
        "    return review_year_vector[id]"
      ]
    },
    {
      "cell_type": "code",
      "execution_count": 24,
      "metadata": {
        "id": "Gxl3oW9obt0y"
      },
      "outputs": [],
      "source": [
        "def month_feature_lookup(id):\n",
        "    return review_month_vector[id]"
      ]
    },
    {
      "cell_type": "code",
      "execution_count": 25,
      "metadata": {
        "id": "S2T3DAUnbt0y"
      },
      "outputs": [],
      "source": [
        "df_business_updated = preprocess_business()"
      ]
    },
    {
      "cell_type": "code",
      "execution_count": 26,
      "metadata": {
        "id": "LyC6Ptwsbt0y"
      },
      "outputs": [],
      "source": [
        "user_id_to_fan, user_id_to_useful,\\\n",
        "user_id_to_funny, user_id_to_cool, \\\n",
        "user_id_to_num_friends, \\\n",
        "df_userdata_friends_rating = preprocess_user_data()"
      ]
    },
    {
      "cell_type": "code",
      "execution_count": 27,
      "metadata": {
        "id": "l4sE7wvMbt0y"
      },
      "outputs": [],
      "source": [
        "review_year_vector, review_month_vector = preprocess_reviews()"
      ]
    },
    {
      "cell_type": "code",
      "execution_count": 154,
      "metadata": {
        "id": "DwFXVPXBbt0z"
      },
      "outputs": [],
      "source": [
        "import time\n",
        "def feat(uid, bid, rid, year):\n",
        "    t = []\n",
        "    t1 = time.time()\n",
        "    rc_b = get_review_count_business(bid)\n",
        "    t2 = time.time()\n",
        "    t.append(t2-t1)\n",
        "    rc_u = get_review_count_user(uid)\n",
        "    t3 = time.time()\n",
        "    t.append(t3-t2)\n",
        "    elite = get_elite_in_year(uid, year-1)\n",
        "    t4 = time.time()\n",
        "    t.append(t4-t3)\n",
        "    yelping = get_yelping_since(uid, year)\n",
        "    t5 = time.time()\n",
        "    t.append(t5-t4)\n",
        "    b_stars = get_business_stars(bid)\n",
        "    t6 = time.time()\n",
        "    t.append(t6-t5)\n",
        "    u_stars = get_average_stars(uid)\n",
        "    t7 = time.time()\n",
        "    t.append(t7-t6)\n",
        "    n_elite = get_num_elite_years(uid)\n",
        "    t8 = time.time()\n",
        "    t.append(t8-t7)\n",
        "    avg_categ_ratings = get_avg_category_ratings(bid)\n",
        "    t9 = time.time()\n",
        "    t.append(t9-t8)\n",
        "    categ = get_category(bid)\n",
        "    t10 = time.time()\n",
        "    t.append(t10-t9)\n",
        "    n_fans = number_of_fans_lookup(uid)\n",
        "    t11 = time.time()\n",
        "    t.append(t11-t10)\n",
        "    n_useful = number_of_useful_lookup(uid)\n",
        "    t12 = time.time()\n",
        "    t.append(t12-t11)\n",
        "    n_funny = number_of_funny_lookup(uid)\n",
        "    t13 = time.time()\n",
        "    t.append(t13-t12)\n",
        "    n_cool = number_of_cool_lookup(uid)\n",
        "    t14 = time.time()\n",
        "    t.append(t14-t13)\n",
        "    n_friends = number_of_friends_lookup(uid)\n",
        "    t15 = time.time()\n",
        "    t.append(t15-t14)\n",
        "    ave_rating_fr = friends_rating_lookup(uid)\n",
        "    t16 = time.time()\n",
        "    t.append(t16-t15)\n",
        "    year_vector = year_feature_lookup(rid)\n",
        "    t17 = time.time()\n",
        "    t.append(t17-t16)\n",
        "    month_vector = month_feature_lookup(rid)\n",
        "    t18 = time.time()\n",
        "    t.append(t18-t17)\n",
        "    \n",
        "    feat_vec = rc_b + rc_u + elite + yelping + b_stars + u_stars + \\\n",
        "            n_elite + avg_categ_ratings + categ + n_fans + n_useful + \\\n",
        "            n_funny + n_cool + n_friends + ave_rating_fr + year_vector + \\\n",
        "            month_vector\n",
        "    t19 = time.time()\n",
        "    t.append(t19-t18)\n",
        "    # print(t)\n",
        "    return np.array(feat_vec)\n",
        "    "
      ]
    },
    {
      "cell_type": "code",
      "execution_count": 155,
      "metadata": {
        "colab": {
          "base_uri": "https://localhost:8080/"
        },
        "id": "G5bVGV2Tbt0z",
        "outputId": "810e9152-ea2e-427d-941a-131f2c1d51a0"
      },
      "outputs": [
        {
          "output_type": "execute_result",
          "data": {
            "text/plain": [
              "array([1.30000000e+01, 2.40000000e+01, 0.00000000e+00, 2.01400000e+03,\n",
              "       4.00000000e+00, 1.84000000e+00, 1.00000000e+00, 0.00000000e+00,\n",
              "       0.00000000e+00, 0.00000000e+00, 0.00000000e+00, 0.00000000e+00,\n",
              "       0.00000000e+00, 0.00000000e+00, 0.00000000e+00, 4.39701897e+00,\n",
              "       0.00000000e+00, 0.00000000e+00, 0.00000000e+00, 0.00000000e+00,\n",
              "       0.00000000e+00, 0.00000000e+00, 0.00000000e+00, 0.00000000e+00,\n",
              "       0.00000000e+00, 0.00000000e+00, 0.00000000e+00, 0.00000000e+00,\n",
              "       0.00000000e+00, 0.00000000e+00, 0.00000000e+00, 0.00000000e+00,\n",
              "       0.00000000e+00, 0.00000000e+00, 0.00000000e+00, 0.00000000e+00,\n",
              "       0.00000000e+00, 0.00000000e+00, 0.00000000e+00, 0.00000000e+00,\n",
              "       0.00000000e+00, 0.00000000e+00, 1.00000000e+00, 0.00000000e+00,\n",
              "       0.00000000e+00, 0.00000000e+00, 0.00000000e+00, 0.00000000e+00,\n",
              "       0.00000000e+00, 0.00000000e+00, 0.00000000e+00, 0.00000000e+00,\n",
              "       0.00000000e+00, 0.00000000e+00, 0.00000000e+00, 0.00000000e+00,\n",
              "       0.00000000e+00, 0.00000000e+00, 0.00000000e+00, 0.00000000e+00,\n",
              "       0.00000000e+00, 0.00000000e+00, 3.10000000e+01, 8.00000000e+00,\n",
              "       2.00000000e+00, 1.00000000e+00, 0.00000000e+00, 0.00000000e+00,\n",
              "       0.00000000e+00, 0.00000000e+00, 0.00000000e+00, 0.00000000e+00,\n",
              "       0.00000000e+00, 0.00000000e+00, 0.00000000e+00, 0.00000000e+00,\n",
              "       0.00000000e+00, 0.00000000e+00, 1.00000000e+00, 0.00000000e+00,\n",
              "       0.00000000e+00, 0.00000000e+00, 0.00000000e+00, 0.00000000e+00,\n",
              "       0.00000000e+00, 1.00000000e+00, 0.00000000e+00, 0.00000000e+00,\n",
              "       0.00000000e+00])"
            ]
          },
          "metadata": {},
          "execution_count": 155
        }
      ],
      "source": [
        "uid, bid, rid, year = \"wSTuiTk-sKNdcFyprzZAjg\", \"B5XSoSG3SfvQGtKEGQ1tSQ\", \"ZKvDG2sBvHVdF5oBNUOpAQ\", 2016\n",
        "feat(uid, bid, rid, year)"
      ]
    },
    {
      "cell_type": "code",
      "execution_count": 156,
      "metadata": {
        "colab": {
          "base_uri": "https://localhost:8080/"
        },
        "id": "7apCWxRFbt0z",
        "outputId": "6ca72120-a0e7-4f32-9f26-9740b4aa4bf6"
      },
      "outputs": [
        {
          "output_type": "stream",
          "name": "stdout",
          "text": [
            "('wSTuiTk-sKNdcFyprzZAjg', 'B5XSoSG3SfvQGtKEGQ1tSQ', 'ZKvDG2sBvHVdF5oBNUOpAQ', 2016, 3.0)\n"
          ]
        }
      ],
      "source": [
        "review_id_list = df_reviews['review_id'].to_list()\n",
        "business_id_list = df_reviews['business_id'].to_list()\n",
        "user_id_list = df_reviews['user_id'].to_list()\n",
        "review_year_list = [((int)(a[:4])) for a in df_reviews['date'].to_list()]\n",
        "star_rating_list = df_reviews['stars'].to_list()\n",
        "\n",
        "feature_lookup_list = list(zip(user_id_list, business_id_list, review_id_list, review_year_list, star_rating_list))\n",
        "\n",
        "print(feature_lookup_list[0])"
      ]
    },
    {
      "cell_type": "code",
      "source": [
        "from tqdm.notebook import tqdm"
      ],
      "metadata": {
        "id": "Lceze98mgFR0"
      },
      "execution_count": 157,
      "outputs": []
    },
    {
      "cell_type": "code",
      "execution_count": 163,
      "metadata": {
        "colab": {
          "base_uri": "https://localhost:8080/",
          "height": 85,
          "referenced_widgets": [
            "3b8a177aea7941ae83787aeffcd77ede",
            "61aa80ca9931420899e3fe3aacd28381",
            "2251872df90244bc93ee9ed82c4be268",
            "3debf805bf9e47e797d00e556f771a91",
            "0a4b698c2d4342109faa73c287fc31e0",
            "de8350552bf948c38542e6d812a6ed23",
            "1a7a30a1986449198c35aa9681e9c3cf",
            "610478423a3b4fec878928fa0107639f",
            "f38e01d39d6e46439120a56c8a433b3c",
            "375071b1541844208ac0eb7b5e4f3056",
            "a4ac89e4f52b45a1a2b8c918ccea2f0f"
          ]
        },
        "id": "NJMj7NJ1bt0z",
        "outputId": "708e77f2-50d8-4dee-82b1-dd30df33b1e6"
      },
      "outputs": [
        {
          "output_type": "display_data",
          "data": {
            "text/plain": [
              "  0%|          | 0/348856 [00:00<?, ?it/s]"
            ],
            "application/vnd.jupyter.widget-view+json": {
              "version_major": 2,
              "version_minor": 0,
              "model_id": "3b8a177aea7941ae83787aeffcd77ede"
            }
          },
          "metadata": {}
        },
        {
          "output_type": "stream",
          "name": "stdout",
          "text": [
            "(348856, 89)\n",
            "(348856,)\n"
          ]
        }
      ],
      "source": [
        "X = []\n",
        "Y = []\n",
        "\n",
        "for uid, bid, rid, year, label in tqdm(feature_lookup_list):\n",
        "\n",
        "  X.append(feat(uid, bid, rid, year))\n",
        "  Y.append(label)\n",
        "\n",
        "X = np.array(X)\n",
        "Y = np.array(Y)\n",
        "\n",
        "print(X.shape)\n",
        "print(Y.shape)"
      ]
    },
    {
      "cell_type": "code",
      "source": [
        "for j in range(0, X.shape[1]):\n",
        "  if (X[:,j].max() == X[:,j].min()):\n",
        "    print(X[:,j].max())\n",
        "    print(X[:,j].min())\n",
        "    print(j)\n",
        "    continue\n",
        "  X[:,j] = (X[:,j]-X[:,j].min())/(X[:,j].max()-X[:,j].min())"
      ],
      "metadata": {
        "colab": {
          "base_uri": "https://localhost:8080/"
        },
        "id": "9-ja6YTEvKv1",
        "outputId": "c81a8e16-5733-4fac-8e8f-4dd42c7748c1"
      },
      "execution_count": 164,
      "outputs": [
        {
          "output_type": "stream",
          "name": "stdout",
          "text": [
            "0.0\n",
            "0.0\n",
            "2\n"
          ]
        }
      ]
    },
    {
      "cell_type": "code",
      "source": [
        "X_train = X[:(int)(len(X)*(0.8))]\n",
        "X_val = X[(int)(len(X)*(0.8)):(int)(len(X)*(0.9))]\n",
        "X_test = X[(int)(len(X)*(0.9)):]\n",
        "\n",
        "Y_train = Y[:int(len(Y)*(0.8))]\n",
        "Y_val = Y[(int)(len(X)*(0.8)):(int)(len(X)*(0.9))]\n",
        "Y_test = Y[int(len(Y)*(0.9)):]"
      ],
      "metadata": {
        "id": "5VXw9LWJqQcM"
      },
      "execution_count": 167,
      "outputs": []
    },
    {
      "cell_type": "code",
      "source": [
        "print(X_train.shape)\n",
        "print(X_test.shape)\n",
        "print(Y_train.shape)\n",
        "print(Y_test.shape)"
      ],
      "metadata": {
        "colab": {
          "base_uri": "https://localhost:8080/"
        },
        "id": "2-OOPGiMrwMW",
        "outputId": "230e55c8-b223-48d4-e11b-d85a723f4397"
      },
      "execution_count": 168,
      "outputs": [
        {
          "output_type": "stream",
          "name": "stdout",
          "text": [
            "(279084, 89)\n",
            "(34886, 89)\n",
            "(279084,)\n",
            "(34886,)\n"
          ]
        }
      ]
    },
    {
      "cell_type": "code",
      "source": [
        "def mean_square_error(Y_test, predictions):\n",
        "  return np.mean((Y_test-predictions)**2)"
      ],
      "metadata": {
        "id": "_MqVxu-3rJG7"
      },
      "execution_count": 169,
      "outputs": []
    },
    {
      "cell_type": "code",
      "source": [
        "class Baseline:\n",
        "\n",
        "  def __init__(self):\n",
        "    self.mean_rating = None\n",
        "    \n",
        "  def train(self, X_train, Y_train):\n",
        "    self.mean_rating = np.mean(Y_train)\n",
        "\n",
        "  def predict(self, X_test):\n",
        "\n",
        "    number_of_test_samples = X_test.shape[0]\n",
        "    predictions = np.array([self.mean_rating]*number_of_test_samples)\n",
        "    return predictions\n"
      ],
      "metadata": {
        "id": "79hCDX-hejY_"
      },
      "execution_count": 170,
      "outputs": []
    },
    {
      "cell_type": "code",
      "source": [
        "model = Baseline()\n",
        "model.train(X_train, Y_train)\n",
        "predictions = model.predict(X_test)\n",
        "print(mean_square_error(Y_test, predictions))"
      ],
      "metadata": {
        "colab": {
          "base_uri": "https://localhost:8080/"
        },
        "id": "NtE-fn8Aq7i2",
        "outputId": "380c76c9-3f0d-407d-aba7-e8a3945073a4"
      },
      "execution_count": 171,
      "outputs": [
        {
          "output_type": "stream",
          "name": "stdout",
          "text": [
            "2.0039307545393172\n"
          ]
        }
      ]
    },
    {
      "cell_type": "code",
      "source": [
        "from sklearn import linear_model\n",
        "\n",
        "class linReg:\n",
        "\n",
        "  def __init__(self, model_type = 'linear'):\n",
        "    self.model = None\n",
        "    if (model_type == 'linear'):\n",
        "      self.model = linear_model.LinearRegression()\n",
        "    else:\n",
        "      self.model = linear_model.Ridge()\n",
        "    \n",
        "  def train(self, X_train, Y_train):\n",
        "    self.model.fit(X_train, Y_train)\n",
        "\n",
        "  def predict(self, X_test):\n",
        "    predictions = self.model.predict(X_test)\n",
        "    return predictions"
      ],
      "metadata": {
        "id": "BMm1has8rR7r"
      },
      "execution_count": 172,
      "outputs": []
    },
    {
      "cell_type": "code",
      "source": [
        "model = linReg('ridge')\n",
        "model.train(X_train, Y_train)\n",
        "predictions = model.predict(X_test)\n",
        "print(mean_square_error(Y_test, predictions))"
      ],
      "metadata": {
        "colab": {
          "base_uri": "https://localhost:8080/"
        },
        "id": "Bkub6IggrY-_",
        "outputId": "817385ad-c2f9-4485-c5d7-466715a87b34"
      },
      "execution_count": 175,
      "outputs": [
        {
          "output_type": "stream",
          "name": "stdout",
          "text": [
            "1.2360417025585948\n"
          ]
        }
      ]
    },
    {
      "cell_type": "code",
      "source": [
        "model = linReg('linear')\n",
        "model.train(X_train, Y_train)\n",
        "predictions = model.predict(X_test)\n",
        "print(mean_square_error(Y_test, predictions))\n"
      ],
      "metadata": {
        "colab": {
          "base_uri": "https://localhost:8080/"
        },
        "id": "CkoDJcyDriv6",
        "outputId": "95d26158-2516-47e1-c82b-fcd64a56a614"
      },
      "execution_count": 174,
      "outputs": [
        {
          "output_type": "stream",
          "name": "stdout",
          "text": [
            "1.236040264606108\n"
          ]
        }
      ]
    },
    {
      "cell_type": "code",
      "source": [
        "# Some weights are too high\n",
        "model.model.coef_"
      ],
      "metadata": {
        "colab": {
          "base_uri": "https://localhost:8080/"
        },
        "id": "q3kKaN2nucKL",
        "outputId": "289fc203-e1d2-4f91-d824-a15450e9cfea"
      },
      "execution_count": 176,
      "outputs": [
        {
          "output_type": "execute_result",
          "data": {
            "text/plain": [
              "array([ 2.04654809e-01,  1.12634732e+00,  0.00000000e+00,  2.22566943e-02,\n",
              "        2.37940775e+00,  4.22594066e+00, -7.84958266e-03, -3.44573490e-02,\n",
              "       -2.35170059e-04,  1.71436793e-02,  1.37782649e-02, -3.18393879e-02,\n",
              "       -9.79863578e-03, -7.34483104e-03, -1.13470819e-04,  6.27626068e-02,\n",
              "       -1.61929359e-02,  1.73934932e-02, -1.44101311e-02, -2.97897303e-02,\n",
              "       -2.34666325e-03,  6.72088335e-03, -1.57674719e-02,  3.99934858e-02,\n",
              "       -3.71854728e-03,  3.41681101e-02,  4.02735258e-02,  7.76854598e-03,\n",
              "        3.16941702e-02,  2.86790511e-02, -1.88972453e-02, -4.77509267e-02,\n",
              "        4.16570931e-02, -5.85742719e-02, -3.44573490e-02, -2.35170059e-04,\n",
              "        1.71436793e-02,  1.37782649e-02, -3.18393879e-02, -9.79863578e-03,\n",
              "       -7.34483104e-03, -1.13470819e-04,  6.27626068e-02, -1.61929359e-02,\n",
              "        1.73934950e-02, -1.44101311e-02, -2.97897303e-02, -2.34666326e-03,\n",
              "        6.72088335e-03, -1.57674719e-02,  3.99934858e-02, -3.71854728e-03,\n",
              "        3.41681101e-02,  4.02735258e-02,  7.76854598e-03,  3.16941702e-02,\n",
              "        2.86790511e-02, -1.88972453e-02, -4.77509267e-02,  4.16570931e-02,\n",
              "       -5.85742719e-02, -6.73912496e-01, -5.01951489e-03, -4.23264228e-01,\n",
              "        4.29409038e-02,  2.90469906e-01,  2.68568785e-02,  1.88336179e-01,\n",
              "        2.36116325e-01,  1.82915783e-01,  5.76064802e-02, -1.43809005e-03,\n",
              "       -1.82609926e-02, -5.54461960e-02, -6.82549897e-02, -6.33918104e-02,\n",
              "       -5.34214119e-02, -5.07642140e-02, -3.06704055e-02, -4.70032927e-02,\n",
              "       -3.63245267e-02, -5.55874434e-02, -3.80238317e-02, -8.38487296e-02,\n",
              "       -6.25388347e-02,  1.49856634e-02,  5.33523697e-04, -1.33060677e-02,\n",
              "       -2.21311958e-03])"
            ]
          },
          "metadata": {},
          "execution_count": 176
        }
      ]
    },
    {
      "cell_type": "code",
      "source": [
        "# Decision Trees, Random Forest, SVR\n",
        "# Collaborative Filtering (Jaccard, Cosine, Pearson)\n",
        "# Latent factor (bias only and complete)\n",
        "# ANN model (sklearn)\n",
        "# Factorization Machines\n",
        "# XG Boost\n",
        "# Scatter plots with target variable\n",
        "# correlation matrix\n",
        "# PCA \n",
        "# Feature importance using SHAP"
      ],
      "metadata": {
        "id": "UqBZv_hKsTRX"
      },
      "execution_count": null,
      "outputs": []
    }
  ],
  "metadata": {
    "kernelspec": {
      "display_name": "Python 3.8.10 64-bit",
      "language": "python",
      "name": "python3"
    },
    "language_info": {
      "codemirror_mode": {
        "name": "ipython",
        "version": 3
      },
      "file_extension": ".py",
      "mimetype": "text/x-python",
      "name": "python",
      "nbconvert_exporter": "python",
      "pygments_lexer": "ipython3",
      "version": "3.8.10"
    },
    "orig_nbformat": 4,
    "vscode": {
      "interpreter": {
        "hash": "916dbcbb3f70747c44a77c7bcd40155683ae19c65e1c03b4aa3499c5328201f1"
      }
    },
    "colab": {
      "provenance": [],
      "include_colab_link": true
    },
    "widgets": {
      "application/vnd.jupyter.widget-state+json": {
        "3b8a177aea7941ae83787aeffcd77ede": {
          "model_module": "@jupyter-widgets/controls",
          "model_name": "HBoxModel",
          "model_module_version": "1.5.0",
          "state": {
            "_dom_classes": [],
            "_model_module": "@jupyter-widgets/controls",
            "_model_module_version": "1.5.0",
            "_model_name": "HBoxModel",
            "_view_count": null,
            "_view_module": "@jupyter-widgets/controls",
            "_view_module_version": "1.5.0",
            "_view_name": "HBoxView",
            "box_style": "",
            "children": [
              "IPY_MODEL_61aa80ca9931420899e3fe3aacd28381",
              "IPY_MODEL_2251872df90244bc93ee9ed82c4be268",
              "IPY_MODEL_3debf805bf9e47e797d00e556f771a91"
            ],
            "layout": "IPY_MODEL_0a4b698c2d4342109faa73c287fc31e0"
          }
        },
        "61aa80ca9931420899e3fe3aacd28381": {
          "model_module": "@jupyter-widgets/controls",
          "model_name": "HTMLModel",
          "model_module_version": "1.5.0",
          "state": {
            "_dom_classes": [],
            "_model_module": "@jupyter-widgets/controls",
            "_model_module_version": "1.5.0",
            "_model_name": "HTMLModel",
            "_view_count": null,
            "_view_module": "@jupyter-widgets/controls",
            "_view_module_version": "1.5.0",
            "_view_name": "HTMLView",
            "description": "",
            "description_tooltip": null,
            "layout": "IPY_MODEL_de8350552bf948c38542e6d812a6ed23",
            "placeholder": "​",
            "style": "IPY_MODEL_1a7a30a1986449198c35aa9681e9c3cf",
            "value": "100%"
          }
        },
        "2251872df90244bc93ee9ed82c4be268": {
          "model_module": "@jupyter-widgets/controls",
          "model_name": "FloatProgressModel",
          "model_module_version": "1.5.0",
          "state": {
            "_dom_classes": [],
            "_model_module": "@jupyter-widgets/controls",
            "_model_module_version": "1.5.0",
            "_model_name": "FloatProgressModel",
            "_view_count": null,
            "_view_module": "@jupyter-widgets/controls",
            "_view_module_version": "1.5.0",
            "_view_name": "ProgressView",
            "bar_style": "success",
            "description": "",
            "description_tooltip": null,
            "layout": "IPY_MODEL_610478423a3b4fec878928fa0107639f",
            "max": 348856,
            "min": 0,
            "orientation": "horizontal",
            "style": "IPY_MODEL_f38e01d39d6e46439120a56c8a433b3c",
            "value": 348856
          }
        },
        "3debf805bf9e47e797d00e556f771a91": {
          "model_module": "@jupyter-widgets/controls",
          "model_name": "HTMLModel",
          "model_module_version": "1.5.0",
          "state": {
            "_dom_classes": [],
            "_model_module": "@jupyter-widgets/controls",
            "_model_module_version": "1.5.0",
            "_model_name": "HTMLModel",
            "_view_count": null,
            "_view_module": "@jupyter-widgets/controls",
            "_view_module_version": "1.5.0",
            "_view_name": "HTMLView",
            "description": "",
            "description_tooltip": null,
            "layout": "IPY_MODEL_375071b1541844208ac0eb7b5e4f3056",
            "placeholder": "​",
            "style": "IPY_MODEL_a4ac89e4f52b45a1a2b8c918ccea2f0f",
            "value": " 348856/348856 [00:12&lt;00:00, 27632.89it/s]"
          }
        },
        "0a4b698c2d4342109faa73c287fc31e0": {
          "model_module": "@jupyter-widgets/base",
          "model_name": "LayoutModel",
          "model_module_version": "1.2.0",
          "state": {
            "_model_module": "@jupyter-widgets/base",
            "_model_module_version": "1.2.0",
            "_model_name": "LayoutModel",
            "_view_count": null,
            "_view_module": "@jupyter-widgets/base",
            "_view_module_version": "1.2.0",
            "_view_name": "LayoutView",
            "align_content": null,
            "align_items": null,
            "align_self": null,
            "border": null,
            "bottom": null,
            "display": null,
            "flex": null,
            "flex_flow": null,
            "grid_area": null,
            "grid_auto_columns": null,
            "grid_auto_flow": null,
            "grid_auto_rows": null,
            "grid_column": null,
            "grid_gap": null,
            "grid_row": null,
            "grid_template_areas": null,
            "grid_template_columns": null,
            "grid_template_rows": null,
            "height": null,
            "justify_content": null,
            "justify_items": null,
            "left": null,
            "margin": null,
            "max_height": null,
            "max_width": null,
            "min_height": null,
            "min_width": null,
            "object_fit": null,
            "object_position": null,
            "order": null,
            "overflow": null,
            "overflow_x": null,
            "overflow_y": null,
            "padding": null,
            "right": null,
            "top": null,
            "visibility": null,
            "width": null
          }
        },
        "de8350552bf948c38542e6d812a6ed23": {
          "model_module": "@jupyter-widgets/base",
          "model_name": "LayoutModel",
          "model_module_version": "1.2.0",
          "state": {
            "_model_module": "@jupyter-widgets/base",
            "_model_module_version": "1.2.0",
            "_model_name": "LayoutModel",
            "_view_count": null,
            "_view_module": "@jupyter-widgets/base",
            "_view_module_version": "1.2.0",
            "_view_name": "LayoutView",
            "align_content": null,
            "align_items": null,
            "align_self": null,
            "border": null,
            "bottom": null,
            "display": null,
            "flex": null,
            "flex_flow": null,
            "grid_area": null,
            "grid_auto_columns": null,
            "grid_auto_flow": null,
            "grid_auto_rows": null,
            "grid_column": null,
            "grid_gap": null,
            "grid_row": null,
            "grid_template_areas": null,
            "grid_template_columns": null,
            "grid_template_rows": null,
            "height": null,
            "justify_content": null,
            "justify_items": null,
            "left": null,
            "margin": null,
            "max_height": null,
            "max_width": null,
            "min_height": null,
            "min_width": null,
            "object_fit": null,
            "object_position": null,
            "order": null,
            "overflow": null,
            "overflow_x": null,
            "overflow_y": null,
            "padding": null,
            "right": null,
            "top": null,
            "visibility": null,
            "width": null
          }
        },
        "1a7a30a1986449198c35aa9681e9c3cf": {
          "model_module": "@jupyter-widgets/controls",
          "model_name": "DescriptionStyleModel",
          "model_module_version": "1.5.0",
          "state": {
            "_model_module": "@jupyter-widgets/controls",
            "_model_module_version": "1.5.0",
            "_model_name": "DescriptionStyleModel",
            "_view_count": null,
            "_view_module": "@jupyter-widgets/base",
            "_view_module_version": "1.2.0",
            "_view_name": "StyleView",
            "description_width": ""
          }
        },
        "610478423a3b4fec878928fa0107639f": {
          "model_module": "@jupyter-widgets/base",
          "model_name": "LayoutModel",
          "model_module_version": "1.2.0",
          "state": {
            "_model_module": "@jupyter-widgets/base",
            "_model_module_version": "1.2.0",
            "_model_name": "LayoutModel",
            "_view_count": null,
            "_view_module": "@jupyter-widgets/base",
            "_view_module_version": "1.2.0",
            "_view_name": "LayoutView",
            "align_content": null,
            "align_items": null,
            "align_self": null,
            "border": null,
            "bottom": null,
            "display": null,
            "flex": null,
            "flex_flow": null,
            "grid_area": null,
            "grid_auto_columns": null,
            "grid_auto_flow": null,
            "grid_auto_rows": null,
            "grid_column": null,
            "grid_gap": null,
            "grid_row": null,
            "grid_template_areas": null,
            "grid_template_columns": null,
            "grid_template_rows": null,
            "height": null,
            "justify_content": null,
            "justify_items": null,
            "left": null,
            "margin": null,
            "max_height": null,
            "max_width": null,
            "min_height": null,
            "min_width": null,
            "object_fit": null,
            "object_position": null,
            "order": null,
            "overflow": null,
            "overflow_x": null,
            "overflow_y": null,
            "padding": null,
            "right": null,
            "top": null,
            "visibility": null,
            "width": null
          }
        },
        "f38e01d39d6e46439120a56c8a433b3c": {
          "model_module": "@jupyter-widgets/controls",
          "model_name": "ProgressStyleModel",
          "model_module_version": "1.5.0",
          "state": {
            "_model_module": "@jupyter-widgets/controls",
            "_model_module_version": "1.5.0",
            "_model_name": "ProgressStyleModel",
            "_view_count": null,
            "_view_module": "@jupyter-widgets/base",
            "_view_module_version": "1.2.0",
            "_view_name": "StyleView",
            "bar_color": null,
            "description_width": ""
          }
        },
        "375071b1541844208ac0eb7b5e4f3056": {
          "model_module": "@jupyter-widgets/base",
          "model_name": "LayoutModel",
          "model_module_version": "1.2.0",
          "state": {
            "_model_module": "@jupyter-widgets/base",
            "_model_module_version": "1.2.0",
            "_model_name": "LayoutModel",
            "_view_count": null,
            "_view_module": "@jupyter-widgets/base",
            "_view_module_version": "1.2.0",
            "_view_name": "LayoutView",
            "align_content": null,
            "align_items": null,
            "align_self": null,
            "border": null,
            "bottom": null,
            "display": null,
            "flex": null,
            "flex_flow": null,
            "grid_area": null,
            "grid_auto_columns": null,
            "grid_auto_flow": null,
            "grid_auto_rows": null,
            "grid_column": null,
            "grid_gap": null,
            "grid_row": null,
            "grid_template_areas": null,
            "grid_template_columns": null,
            "grid_template_rows": null,
            "height": null,
            "justify_content": null,
            "justify_items": null,
            "left": null,
            "margin": null,
            "max_height": null,
            "max_width": null,
            "min_height": null,
            "min_width": null,
            "object_fit": null,
            "object_position": null,
            "order": null,
            "overflow": null,
            "overflow_x": null,
            "overflow_y": null,
            "padding": null,
            "right": null,
            "top": null,
            "visibility": null,
            "width": null
          }
        },
        "a4ac89e4f52b45a1a2b8c918ccea2f0f": {
          "model_module": "@jupyter-widgets/controls",
          "model_name": "DescriptionStyleModel",
          "model_module_version": "1.5.0",
          "state": {
            "_model_module": "@jupyter-widgets/controls",
            "_model_module_version": "1.5.0",
            "_model_name": "DescriptionStyleModel",
            "_view_count": null,
            "_view_module": "@jupyter-widgets/base",
            "_view_module_version": "1.2.0",
            "_view_name": "StyleView",
            "description_width": ""
          }
        }
      }
    }
  },
  "nbformat": 4,
  "nbformat_minor": 0
}